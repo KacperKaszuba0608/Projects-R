{
  "nbformat": 4,
  "nbformat_minor": 0,
  "metadata": {
    "colab": {
      "provenance": [],
      "include_colab_link": true
    },
    "kernelspec": {
      "name": "ir",
      "display_name": "R"
    },
    "language_info": {
      "name": "R"
    }
  },
  "cells": [
    {
      "cell_type": "markdown",
      "metadata": {
        "id": "view-in-github",
        "colab_type": "text"
      },
      "source": [
        "<a href=\"https://colab.research.google.com/github/KacperKaszuba0608/Projects-R/blob/main/Investigating_COVID_19_Virus_Trends.ipynb\" target=\"_parent\"><img src=\"https://colab.research.google.com/assets/colab-badge.svg\" alt=\"Open In Colab\"/></a>"
      ]
    },
    {
      "cell_type": "markdown",
      "source": [
        "# Investigating COVID-19 Virus Trends\n",
        "Kacper Kaszuba"
      ],
      "metadata": {
        "id": "KImjZE_r798g"
      }
    },
    {
      "cell_type": "markdown",
      "source": [
        "## Introducion"
      ],
      "metadata": {
        "id": "VIMTBsZU8INU"
      }
    },
    {
      "cell_type": "markdown",
      "source": [
        "In this project I will analys dataset from COVID19 Worldwide Testing Data. Dataset is abailable on Kaglle at this [link](https://www.kaggle.com/datasets/lin0li/covid19testing). I main purpose of this project is: \"**Which countries have had the highest number of positive cases against the number of tests?**\". The columns of data are described below:\n",
        "\n",
        "* `Date` - date of collecting record\n",
        "* `Country_Region` - names of country in world\n",
        "* `Province_State` - names of state in country if exists if not value equals 'All States'\n",
        "* `postitive` - cumulative number of positive cases reported\n",
        "* `active` - number of actively cases on that day\n",
        "* `hospitalized` - cumulative number of hospitalized cases reported \n",
        "* `hospitalizedCurr` - number of actively hospitalized cases on that day\n",
        "* `recovered` - cumulative number of recovered cases reported\n",
        "* `death` - cumulative number of deaths reported\n",
        "* `total_tested` - cumulative number of tests conducted\n",
        "* `daily_tested` - number of tests conducted on the day; if daily data is unavailable, daily tested is averaged across number of days in between\n",
        "* `daily_positive` - number of positive cases reported on the day; if daily data is unavailable, daily positive is averaged across number of days in between\n",
        "\n",
        "Whole project was written in Rmarkdown wirh R language."
      ],
      "metadata": {
        "id": "pO2DcICB8EKs"
      }
    },
    {
      "cell_type": "markdown",
      "source": [
        "## Loading necessary libraries and reading in dataset"
      ],
      "metadata": {
        "id": "SeiqUFeT8NR7"
      }
    },
    {
      "cell_type": "code",
      "execution_count": null,
      "metadata": {
        "colab": {
          "base_uri": "https://localhost:8080/"
        },
        "id": "jtgtTu6-7qr1",
        "outputId": "cfdc5824-8e49-4119-d5df-14c414590f23"
      },
      "outputs": [
        {
          "output_type": "stream",
          "name": "stderr",
          "text": [
            "\u001b[1mRows: \u001b[22m\u001b[34m10903\u001b[39m \u001b[1mColumns: \u001b[22m\u001b[34m14\u001b[39m\n",
            "\u001b[36m──\u001b[39m \u001b[1mColumn specification\u001b[22m \u001b[36m────────────────────────────────────────────────────────\u001b[39m\n",
            "\u001b[1mDelimiter:\u001b[22m \",\"\n",
            "\u001b[31mchr\u001b[39m  (4): Continent_Name, Two_Letter_Country_Code, Country_Region, Province_...\n",
            "\u001b[32mdbl\u001b[39m  (9): positive, hospitalized, recovered, death, total_tested, active, ho...\n",
            "\u001b[34mdate\u001b[39m (1): Date\n",
            "\n",
            "\u001b[36mℹ\u001b[39m Use `spec()` to retrieve the full column specification for this data.\n",
            "\u001b[36mℹ\u001b[39m Specify the column types or set `show_col_types = FALSE` to quiet this message.\n"
          ]
        }
      ],
      "source": [
        "library(readr)\n",
        "library(tidyverse)\n",
        "library(tibble)\n",
        "library(knitr)\n",
        "\n",
        "# Reading in file from my github repository\n",
        "df <- read_csv('https://raw.githubusercontent.com/KacperKaszuba0608/Datasets/main/covid19.csv')"
      ]
    },
    {
      "cell_type": "markdown",
      "source": [
        "## Getting some informations about data\n"
      ],
      "metadata": {
        "id": "Jt7E4EyY8b0T"
      }
    },
    {
      "cell_type": "code",
      "source": [
        "# Checking how much date I have\n",
        "dim(df)"
      ],
      "metadata": {
        "colab": {
          "base_uri": "https://localhost:8080/",
          "height": 34
        },
        "id": "mIjxkDNS8c4J",
        "outputId": "8a67492a-c062-4200-e869-35014ee4aaba"
      },
      "execution_count": null,
      "outputs": [
        {
          "output_type": "display_data",
          "data": {
            "text/html": [
              "<style>\n",
              ".list-inline {list-style: none; margin:0; padding: 0}\n",
              ".list-inline>li {display: inline-block}\n",
              ".list-inline>li:not(:last-child)::after {content: \"\\00b7\"; padding: 0 .5ex}\n",
              "</style>\n",
              "<ol class=list-inline><li>10903</li><li>14</li></ol>\n"
            ],
            "text/markdown": "1. 10903\n2. 14\n\n\n",
            "text/latex": "\\begin{enumerate*}\n\\item 10903\n\\item 14\n\\end{enumerate*}\n",
            "text/plain": [
              "[1] 10903    14"
            ]
          },
          "metadata": {}
        }
      ]
    },
    {
      "cell_type": "markdown",
      "source": [
        "As we see above I have 10903 rows and 14 columns of data. Now let's check the names of each column.\n"
      ],
      "metadata": {
        "id": "aviIN37d8e1T"
      }
    },
    {
      "cell_type": "code",
      "source": [
        "# Getting names of column\n",
        "colnames(df)"
      ],
      "metadata": {
        "colab": {
          "base_uri": "https://localhost:8080/",
          "height": 34
        },
        "id": "KZcfKAhY8gvC",
        "outputId": "8a9cbc7b-e2d4-47cf-f4e9-bf7456eb7c52"
      },
      "execution_count": null,
      "outputs": [
        {
          "output_type": "display_data",
          "data": {
            "text/html": [
              "<style>\n",
              ".list-inline {list-style: none; margin:0; padding: 0}\n",
              ".list-inline>li {display: inline-block}\n",
              ".list-inline>li:not(:last-child)::after {content: \"\\00b7\"; padding: 0 .5ex}\n",
              "</style>\n",
              "<ol class=list-inline><li>'Date'</li><li>'Continent_Name'</li><li>'Two_Letter_Country_Code'</li><li>'Country_Region'</li><li>'Province_State'</li><li>'positive'</li><li>'hospitalized'</li><li>'recovered'</li><li>'death'</li><li>'total_tested'</li><li>'active'</li><li>'hospitalizedCurr'</li><li>'daily_tested'</li><li>'daily_positive'</li></ol>\n"
            ],
            "text/markdown": "1. 'Date'\n2. 'Continent_Name'\n3. 'Two_Letter_Country_Code'\n4. 'Country_Region'\n5. 'Province_State'\n6. 'positive'\n7. 'hospitalized'\n8. 'recovered'\n9. 'death'\n10. 'total_tested'\n11. 'active'\n12. 'hospitalizedCurr'\n13. 'daily_tested'\n14. 'daily_positive'\n\n\n",
            "text/latex": "\\begin{enumerate*}\n\\item 'Date'\n\\item 'Continent\\_Name'\n\\item 'Two\\_Letter\\_Country\\_Code'\n\\item 'Country\\_Region'\n\\item 'Province\\_State'\n\\item 'positive'\n\\item 'hospitalized'\n\\item 'recovered'\n\\item 'death'\n\\item 'total\\_tested'\n\\item 'active'\n\\item 'hospitalizedCurr'\n\\item 'daily\\_tested'\n\\item 'daily\\_positive'\n\\end{enumerate*}\n",
            "text/plain": [
              " [1] \"Date\"                    \"Continent_Name\"         \n",
              " [3] \"Two_Letter_Country_Code\" \"Country_Region\"         \n",
              " [5] \"Province_State\"          \"positive\"               \n",
              " [7] \"hospitalized\"            \"recovered\"              \n",
              " [9] \"death\"                   \"total_tested\"           \n",
              "[11] \"active\"                  \"hospitalizedCurr\"       \n",
              "[13] \"daily_tested\"            \"daily_positive\"         "
            ]
          },
          "metadata": {}
        }
      ]
    },
    {
      "cell_type": "markdown",
      "source": [
        "Next steps are check first few rows and types of each column.\n"
      ],
      "metadata": {
        "id": "-FhRh4er8ihT"
      }
    },
    {
      "cell_type": "code",
      "source": [
        "# First 5 rows\n",
        "head(df)"
      ],
      "metadata": {
        "colab": {
          "base_uri": "https://localhost:8080/",
          "height": 286
        },
        "id": "gXNC_Sc08kJz",
        "outputId": "7113ff75-6925-47f0-a77e-5c4a15da31c6"
      },
      "execution_count": null,
      "outputs": [
        {
          "output_type": "display_data",
          "data": {
            "text/html": [
              "<table class=\"dataframe\">\n",
              "<caption>A tibble: 6 × 14</caption>\n",
              "<thead>\n",
              "\t<tr><th scope=col>Date</th><th scope=col>Continent_Name</th><th scope=col>Two_Letter_Country_Code</th><th scope=col>Country_Region</th><th scope=col>Province_State</th><th scope=col>positive</th><th scope=col>hospitalized</th><th scope=col>recovered</th><th scope=col>death</th><th scope=col>total_tested</th><th scope=col>active</th><th scope=col>hospitalizedCurr</th><th scope=col>daily_tested</th><th scope=col>daily_positive</th></tr>\n",
              "\t<tr><th scope=col>&lt;date&gt;</th><th scope=col>&lt;chr&gt;</th><th scope=col>&lt;chr&gt;</th><th scope=col>&lt;chr&gt;</th><th scope=col>&lt;chr&gt;</th><th scope=col>&lt;dbl&gt;</th><th scope=col>&lt;dbl&gt;</th><th scope=col>&lt;dbl&gt;</th><th scope=col>&lt;dbl&gt;</th><th scope=col>&lt;dbl&gt;</th><th scope=col>&lt;dbl&gt;</th><th scope=col>&lt;dbl&gt;</th><th scope=col>&lt;dbl&gt;</th><th scope=col>&lt;dbl&gt;</th></tr>\n",
              "</thead>\n",
              "<tbody>\n",
              "\t<tr><td>2020-01-20</td><td>Asia         </td><td>KR</td><td>South Korea  </td><td>All States</td><td>1</td><td>0</td><td>0</td><td>0</td><td> 4</td><td>0</td><td>0</td><td>0</td><td>0</td></tr>\n",
              "\t<tr><td>2020-01-22</td><td>North America</td><td>US</td><td>United States</td><td>All States</td><td>1</td><td>0</td><td>0</td><td>0</td><td> 1</td><td>0</td><td>0</td><td>0</td><td>0</td></tr>\n",
              "\t<tr><td>2020-01-22</td><td>North America</td><td>US</td><td>United States</td><td>Washington</td><td>1</td><td>0</td><td>0</td><td>0</td><td> 1</td><td>0</td><td>0</td><td>0</td><td>0</td></tr>\n",
              "\t<tr><td>2020-01-23</td><td>North America</td><td>US</td><td>United States</td><td>All States</td><td>1</td><td>0</td><td>0</td><td>0</td><td> 1</td><td>0</td><td>0</td><td>0</td><td>0</td></tr>\n",
              "\t<tr><td>2020-01-23</td><td>North America</td><td>US</td><td>United States</td><td>Washington</td><td>1</td><td>0</td><td>0</td><td>0</td><td> 1</td><td>0</td><td>0</td><td>0</td><td>0</td></tr>\n",
              "\t<tr><td>2020-01-24</td><td>Asia         </td><td>KR</td><td>South Korea  </td><td>All States</td><td>2</td><td>0</td><td>0</td><td>0</td><td>27</td><td>0</td><td>0</td><td>5</td><td>0</td></tr>\n",
              "</tbody>\n",
              "</table>\n"
            ],
            "text/markdown": "\nA tibble: 6 × 14\n\n| Date &lt;date&gt; | Continent_Name &lt;chr&gt; | Two_Letter_Country_Code &lt;chr&gt; | Country_Region &lt;chr&gt; | Province_State &lt;chr&gt; | positive &lt;dbl&gt; | hospitalized &lt;dbl&gt; | recovered &lt;dbl&gt; | death &lt;dbl&gt; | total_tested &lt;dbl&gt; | active &lt;dbl&gt; | hospitalizedCurr &lt;dbl&gt; | daily_tested &lt;dbl&gt; | daily_positive &lt;dbl&gt; |\n|---|---|---|---|---|---|---|---|---|---|---|---|---|---|\n| 2020-01-20 | Asia          | KR | South Korea   | All States | 1 | 0 | 0 | 0 |  4 | 0 | 0 | 0 | 0 |\n| 2020-01-22 | North America | US | United States | All States | 1 | 0 | 0 | 0 |  1 | 0 | 0 | 0 | 0 |\n| 2020-01-22 | North America | US | United States | Washington | 1 | 0 | 0 | 0 |  1 | 0 | 0 | 0 | 0 |\n| 2020-01-23 | North America | US | United States | All States | 1 | 0 | 0 | 0 |  1 | 0 | 0 | 0 | 0 |\n| 2020-01-23 | North America | US | United States | Washington | 1 | 0 | 0 | 0 |  1 | 0 | 0 | 0 | 0 |\n| 2020-01-24 | Asia          | KR | South Korea   | All States | 2 | 0 | 0 | 0 | 27 | 0 | 0 | 5 | 0 |\n\n",
            "text/latex": "A tibble: 6 × 14\n\\begin{tabular}{llllllllllllll}\n Date & Continent\\_Name & Two\\_Letter\\_Country\\_Code & Country\\_Region & Province\\_State & positive & hospitalized & recovered & death & total\\_tested & active & hospitalizedCurr & daily\\_tested & daily\\_positive\\\\\n <date> & <chr> & <chr> & <chr> & <chr> & <dbl> & <dbl> & <dbl> & <dbl> & <dbl> & <dbl> & <dbl> & <dbl> & <dbl>\\\\\n\\hline\n\t 2020-01-20 & Asia          & KR & South Korea   & All States & 1 & 0 & 0 & 0 &  4 & 0 & 0 & 0 & 0\\\\\n\t 2020-01-22 & North America & US & United States & All States & 1 & 0 & 0 & 0 &  1 & 0 & 0 & 0 & 0\\\\\n\t 2020-01-22 & North America & US & United States & Washington & 1 & 0 & 0 & 0 &  1 & 0 & 0 & 0 & 0\\\\\n\t 2020-01-23 & North America & US & United States & All States & 1 & 0 & 0 & 0 &  1 & 0 & 0 & 0 & 0\\\\\n\t 2020-01-23 & North America & US & United States & Washington & 1 & 0 & 0 & 0 &  1 & 0 & 0 & 0 & 0\\\\\n\t 2020-01-24 & Asia          & KR & South Korea   & All States & 2 & 0 & 0 & 0 & 27 & 0 & 0 & 5 & 0\\\\\n\\end{tabular}\n",
            "text/plain": [
              "  Date       Continent_Name Two_Letter_Country_Code Country_Region\n",
              "1 2020-01-20 Asia           KR                      South Korea   \n",
              "2 2020-01-22 North America  US                      United States \n",
              "3 2020-01-22 North America  US                      United States \n",
              "4 2020-01-23 North America  US                      United States \n",
              "5 2020-01-23 North America  US                      United States \n",
              "6 2020-01-24 Asia           KR                      South Korea   \n",
              "  Province_State positive hospitalized recovered death total_tested active\n",
              "1 All States     1        0            0         0      4           0     \n",
              "2 All States     1        0            0         0      1           0     \n",
              "3 Washington     1        0            0         0      1           0     \n",
              "4 All States     1        0            0         0      1           0     \n",
              "5 Washington     1        0            0         0      1           0     \n",
              "6 All States     2        0            0         0     27           0     \n",
              "  hospitalizedCurr daily_tested daily_positive\n",
              "1 0                0            0             \n",
              "2 0                0            0             \n",
              "3 0                0            0             \n",
              "4 0                0            0             \n",
              "5 0                0            0             \n",
              "6 0                5            0             "
            ]
          },
          "metadata": {}
        }
      ]
    },
    {
      "cell_type": "code",
      "source": [
        "# Types of columns\n",
        "glimpse(df)"
      ],
      "metadata": {
        "colab": {
          "base_uri": "https://localhost:8080/"
        },
        "id": "lypuji0w8m6z",
        "outputId": "46e65d59-f530-4adb-f192-d537f6a9e9f4"
      },
      "execution_count": null,
      "outputs": [
        {
          "output_type": "stream",
          "name": "stdout",
          "text": [
            "Rows: 10,903\n",
            "Columns: 14\n",
            "$ Date                    \u001b[3m\u001b[90m<date>\u001b[39m\u001b[23m 2020-01-20, 2020-01-22, 2020-01-22, 2020-01-2…\n",
            "$ Continent_Name          \u001b[3m\u001b[90m<chr>\u001b[39m\u001b[23m \"Asia\", \"North America\", \"North America\", \"Nor…\n",
            "$ Two_Letter_Country_Code \u001b[3m\u001b[90m<chr>\u001b[39m\u001b[23m \"KR\", \"US\", \"US\", \"US\", \"US\", \"KR\", \"US\", \"US\"…\n",
            "$ Country_Region          \u001b[3m\u001b[90m<chr>\u001b[39m\u001b[23m \"South Korea\", \"United States\", \"United States…\n",
            "$ Province_State          \u001b[3m\u001b[90m<chr>\u001b[39m\u001b[23m \"All States\", \"All States\", \"Washington\", \"All…\n",
            "$ positive                \u001b[3m\u001b[90m<dbl>\u001b[39m\u001b[23m 1, 1, 1, 1, 1, 2, 1, 1, 4, 0, 3, 0, 0, 0, 0, 1…\n",
            "$ hospitalized            \u001b[3m\u001b[90m<dbl>\u001b[39m\u001b[23m 0, 0, 0, 0, 0, 0, 0, 0, 0, 0, 0, 0, 0, 0, 0, 0…\n",
            "$ recovered               \u001b[3m\u001b[90m<dbl>\u001b[39m\u001b[23m 0, 0, 0, 0, 0, 0, 0, 0, 0, 0, 0, 0, 0, 0, 0, 0…\n",
            "$ death                   \u001b[3m\u001b[90m<dbl>\u001b[39m\u001b[23m 0, 0, 0, 0, 0, 0, 0, 0, 0, 0, 0, 0, 0, 0, 0, 0…\n",
            "$ total_tested            \u001b[3m\u001b[90m<dbl>\u001b[39m\u001b[23m 4, 1, 1, 1, 1, 27, 1, 1, 0, 0, 0, 0, 0, 0, 0, …\n",
            "$ active                  \u001b[3m\u001b[90m<dbl>\u001b[39m\u001b[23m 0, 0, 0, 0, 0, 0, 0, 0, 0, 0, 0, 0, 0, 0, 0, 0…\n",
            "$ hospitalizedCurr        \u001b[3m\u001b[90m<dbl>\u001b[39m\u001b[23m 0, 0, 0, 0, 0, 0, 0, 0, 0, 0, 0, 0, 0, 0, 0, 0…\n",
            "$ daily_tested            \u001b[3m\u001b[90m<dbl>\u001b[39m\u001b[23m 0, 0, 0, 0, 0, 5, 0, 0, 0, 0, 0, 0, 0, 0, 0, 0…\n",
            "$ daily_positive          \u001b[3m\u001b[90m<dbl>\u001b[39m\u001b[23m 0, 0, 0, 0, 0, 0, 0, 0, 0, 0, 0, 0, 0, 0, 0, 0…\n"
          ]
        }
      ]
    },
    {
      "cell_type": "markdown",
      "source": [
        "As we see above most of columns are double, first one is date class and every column about country or state are character class. We can see informations about number of rows and columns - rows: 10,903 and columns: 14."
      ],
      "metadata": {
        "id": "nqcBkCTf8qRr"
      }
    },
    {
      "cell_type": "markdown",
      "source": [
        "## Isolation the Rows I Need\n",
        "\n",
        "Now, I have to isolate the rows which I need. The first one cryterium is keepping only the data related to \"All States\". \"All States\" represents the value of the column Province_State to specify that the COVID-19 data is only available at the country level. "
      ],
      "metadata": {
        "id": "2p2QFrvV8xBi"
      }
    },
    {
      "cell_type": "code",
      "source": [
        "# Filtering rows and removing column Province_State\n",
        "df_all_states <- df %>% \n",
        "  filter(Province_State == 'All States') %>%\n",
        "  select(-Province_State)"
      ],
      "metadata": {
        "id": "zrgcSjz78zwy"
      },
      "execution_count": null,
      "outputs": []
    },
    {
      "cell_type": "markdown",
      "source": [
        "Above I filter dataframe with `filter` function and then remove `Province_State` column because I don't need it to my analys. Then I store the result to variable named df_all_states.\n",
        "\n",
        "After filtering data I extract columns realated to daily measures because if we made the mistake of comparing a column containing cumulative data and another one containing only one-day data our analysis would be biased. I chose following columns:\n",
        "\n",
        "1. Date\n",
        "2. Country_Region\n",
        "3. active\n",
        "4. hospitalzedCurr\n",
        "5. daily_tested\n",
        "6. daily_positive"
      ],
      "metadata": {
        "id": "VtRKIsu181Bq"
      }
    },
    {
      "cell_type": "code",
      "source": [
        "#Selecting needed columns\n",
        "df_all_states_daily <- df_all_states %>%\n",
        "  select(Date, Country_Region, active, hospitalizedCurr, daily_tested, daily_positive)"
      ],
      "metadata": {
        "id": "hBVxsSYg83eC"
      },
      "execution_count": null,
      "outputs": []
    },
    {
      "cell_type": "markdown",
      "source": [
        "## Extracting the Top Ten Tested Cases Countries\n",
        "\n",
        "Aim in this part is extract **top ten cases countries data** "
      ],
      "metadata": {
        "id": "mwcbiL8w86Ea"
      }
    },
    {
      "cell_type": "code",
      "source": [
        "# Grouping data, calculating sums and ordering data by tested value\n",
        "df_all_states_daily_sum <- df_all_states_daily %>% \n",
        "  group_by(Country_Region) %>% \n",
        "  summarise(tested = sum(daily_tested), \n",
        "            positive = sum(daily_positive),\n",
        "            active = sum(active),\n",
        "            hospitalized = sum(hospitalizedCurr)) %>% \n",
        "  arrange(-tested)\n",
        "\n",
        "df_all_states_daily_sum"
      ],
      "metadata": {
        "colab": {
          "base_uri": "https://localhost:8080/",
          "height": 1000
        },
        "id": "fI_4coYS8-Dq",
        "outputId": "c937e89a-99a9-4c34-d759-3c8c3f6d5197"
      },
      "execution_count": null,
      "outputs": [
        {
          "output_type": "display_data",
          "data": {
            "text/html": [
              "<table class=\"dataframe\">\n",
              "<caption>A tibble: 108 × 5</caption>\n",
              "<thead>\n",
              "\t<tr><th scope=col>Country_Region</th><th scope=col>tested</th><th scope=col>positive</th><th scope=col>active</th><th scope=col>hospitalized</th></tr>\n",
              "\t<tr><th scope=col>&lt;chr&gt;</th><th scope=col>&lt;dbl&gt;</th><th scope=col>&lt;dbl&gt;</th><th scope=col>&lt;dbl&gt;</th><th scope=col>&lt;dbl&gt;</th></tr>\n",
              "</thead>\n",
              "<tbody>\n",
              "\t<tr><td>United States       </td><td>17282363</td><td>1877179</td><td>      0</td><td>      0</td></tr>\n",
              "\t<tr><td>Russia              </td><td>10542266</td><td> 406368</td><td>6924890</td><td>      0</td></tr>\n",
              "\t<tr><td>Italy               </td><td> 4091291</td><td> 251710</td><td>6202214</td><td>1699003</td></tr>\n",
              "\t<tr><td>India               </td><td> 3692851</td><td>  60959</td><td>      0</td><td>      0</td></tr>\n",
              "\t<tr><td>Turkey              </td><td> 2031192</td><td> 163941</td><td>2980960</td><td>      0</td></tr>\n",
              "\t<tr><td>Canada              </td><td> 1654779</td><td>  90873</td><td>  56454</td><td>      0</td></tr>\n",
              "\t<tr><td>United Kingdom      </td><td> 1473672</td><td> 166909</td><td>      0</td><td>      0</td></tr>\n",
              "\t<tr><td>Australia           </td><td> 1252900</td><td>   7200</td><td> 134586</td><td>   6655</td></tr>\n",
              "\t<tr><td>Peru                </td><td>  976790</td><td>  59497</td><td>      0</td><td>      0</td></tr>\n",
              "\t<tr><td>Poland              </td><td>  928256</td><td>  23987</td><td> 538203</td><td>      0</td></tr>\n",
              "\t<tr><td>South Korea         </td><td>  916276</td><td>  11493</td><td> 302633</td><td>      0</td></tr>\n",
              "\t<tr><td>Israel              </td><td>  546626</td><td>  16647</td><td>      0</td><td>  30653</td></tr>\n",
              "\t<tr><td>Germany             </td><td>  518647</td><td>  29943</td><td>      0</td><td>      0</td></tr>\n",
              "\t<tr><td>Belgium             </td><td>  511055</td><td>  54209</td><td> 220744</td><td>      0</td></tr>\n",
              "\t<tr><td>Czech Republic      </td><td>  446758</td><td>   9321</td><td>      0</td><td>      0</td></tr>\n",
              "\t<tr><td>Pakistan            </td><td>  421626</td><td>  22607</td><td>      0</td><td>      0</td></tr>\n",
              "\t<tr><td>Denmark             </td><td>  383167</td><td>   6867</td><td>      0</td><td>      0</td></tr>\n",
              "\t<tr><td>Malaysia            </td><td>  345880</td><td>   2257</td><td>      0</td><td>      0</td></tr>\n",
              "\t<tr><td>Ukraine             </td><td>  339762</td><td>  23619</td><td> 501572</td><td>      0</td></tr>\n",
              "\t<tr><td>Austria             </td><td>  337293</td><td>   5366</td><td>      0</td><td>      0</td></tr>\n",
              "\t<tr><td>Bangladesh          </td><td>  320834</td><td>  49531</td><td> 685992</td><td>      0</td></tr>\n",
              "\t<tr><td>Lithuania           </td><td>  302743</td><td>   1674</td><td>  46323</td><td>      0</td></tr>\n",
              "\t<tr><td>United Arab Emirates</td><td>  299755</td><td>   3044</td><td>      0</td><td>      0</td></tr>\n",
              "\t<tr><td>New Zealand         </td><td>  281301</td><td>   1221</td><td>  47365</td><td>  25241</td></tr>\n",
              "\t<tr><td>Spain               </td><td>  252243</td><td>   8970</td><td>      0</td><td>      0</td></tr>\n",
              "\t<tr><td>Philippines         </td><td>  245525</td><td>   6630</td><td>      0</td><td>      0</td></tr>\n",
              "\t<tr><td>Serbia              </td><td>  242139</td><td>  11357</td><td> 320568</td><td> 111807</td></tr>\n",
              "\t<tr><td>Japan               </td><td>  235826</td><td>   9196</td><td>      0</td><td>      0</td></tr>\n",
              "\t<tr><td>Portugal            </td><td>  221534</td><td>   5623</td><td>      0</td><td>      0</td></tr>\n",
              "\t<tr><td>South Africa        </td><td>  207167</td><td>   2993</td><td>      0</td><td>      0</td></tr>\n",
              "\t<tr><td>⋮</td><td>⋮</td><td>⋮</td><td>⋮</td><td>⋮</td></tr>\n",
              "\t<tr><td>Uganda             </td><td>8053</td><td>  2</td><td>0</td><td>0</td></tr>\n",
              "\t<tr><td>Ethiopia           </td><td>6460</td><td>  0</td><td>0</td><td>0</td></tr>\n",
              "\t<tr><td>Tunisia            </td><td>6436</td><td> 20</td><td>0</td><td>0</td></tr>\n",
              "\t<tr><td>Cuba               </td><td>5978</td><td> 50</td><td>0</td><td>0</td></tr>\n",
              "\t<tr><td>Albania            </td><td>5794</td><td>374</td><td>0</td><td>0</td></tr>\n",
              "\t<tr><td>North Macedonia    </td><td>5473</td><td>506</td><td>0</td><td>0</td></tr>\n",
              "\t<tr><td>Montenegro         </td><td>4556</td><td>143</td><td>0</td><td>0</td></tr>\n",
              "\t<tr><td>Egypt              </td><td>4220</td><td>288</td><td>0</td><td>0</td></tr>\n",
              "\t<tr><td>Uruguay            </td><td>4059</td><td> 38</td><td>0</td><td>0</td></tr>\n",
              "\t<tr><td>Panama             </td><td>3797</td><td>605</td><td>0</td><td>0</td></tr>\n",
              "\t<tr><td>Kenya              </td><td>2989</td><td> 29</td><td>0</td><td>0</td></tr>\n",
              "\t<tr><td>Palestine          </td><td>2385</td><td> 27</td><td>0</td><td>0</td></tr>\n",
              "\t<tr><td>El Salvador        </td><td>1993</td><td>  0</td><td>0</td><td>0</td></tr>\n",
              "\t<tr><td>Cameroon           </td><td>1928</td><td>108</td><td>0</td><td>0</td></tr>\n",
              "\t<tr><td>Bolivia            </td><td>1717</td><td>148</td><td>0</td><td>0</td></tr>\n",
              "\t<tr><td>Lebanon            </td><td>1149</td><td>  0</td><td>0</td><td>0</td></tr>\n",
              "\t<tr><td>Senegal            </td><td>1132</td><td>  0</td><td>0</td><td>0</td></tr>\n",
              "\t<tr><td>Ivory Coast        </td><td>1065</td><td> 31</td><td>0</td><td>0</td></tr>\n",
              "\t<tr><td>Myanmar            </td><td> 969</td><td>  0</td><td>0</td><td>0</td></tr>\n",
              "\t<tr><td>Jamaica            </td><td> 840</td><td> 29</td><td>0</td><td>0</td></tr>\n",
              "\t<tr><td>Barbados           </td><td> 594</td><td>  2</td><td>0</td><td>0</td></tr>\n",
              "\t<tr><td>Mozambique         </td><td> 374</td><td>  0</td><td>0</td><td>0</td></tr>\n",
              "\t<tr><td>Burkina Faso       </td><td> 331</td><td>  0</td><td>0</td><td>0</td></tr>\n",
              "\t<tr><td>Congo              </td><td> 223</td><td> 14</td><td>0</td><td>0</td></tr>\n",
              "\t<tr><td>Guinea             </td><td> 193</td><td>  0</td><td>0</td><td>0</td></tr>\n",
              "\t<tr><td>Trinidad and Tobago</td><td> 188</td><td>  5</td><td>0</td><td>0</td></tr>\n",
              "\t<tr><td>Grenada            </td><td> 173</td><td>  0</td><td>0</td><td>0</td></tr>\n",
              "\t<tr><td>Malawi             </td><td>  93</td><td>  1</td><td>0</td><td>0</td></tr>\n",
              "\t<tr><td>North Korea        </td><td>   2</td><td>  0</td><td>0</td><td>0</td></tr>\n",
              "\t<tr><td>Tanzania           </td><td>   0</td><td>  0</td><td>0</td><td>0</td></tr>\n",
              "</tbody>\n",
              "</table>\n"
            ],
            "text/markdown": "\nA tibble: 108 × 5\n\n| Country_Region &lt;chr&gt; | tested &lt;dbl&gt; | positive &lt;dbl&gt; | active &lt;dbl&gt; | hospitalized &lt;dbl&gt; |\n|---|---|---|---|---|\n| United States        | 17282363 | 1877179 |       0 |       0 |\n| Russia               | 10542266 |  406368 | 6924890 |       0 |\n| Italy                |  4091291 |  251710 | 6202214 | 1699003 |\n| India                |  3692851 |   60959 |       0 |       0 |\n| Turkey               |  2031192 |  163941 | 2980960 |       0 |\n| Canada               |  1654779 |   90873 |   56454 |       0 |\n| United Kingdom       |  1473672 |  166909 |       0 |       0 |\n| Australia            |  1252900 |    7200 |  134586 |    6655 |\n| Peru                 |   976790 |   59497 |       0 |       0 |\n| Poland               |   928256 |   23987 |  538203 |       0 |\n| South Korea          |   916276 |   11493 |  302633 |       0 |\n| Israel               |   546626 |   16647 |       0 |   30653 |\n| Germany              |   518647 |   29943 |       0 |       0 |\n| Belgium              |   511055 |   54209 |  220744 |       0 |\n| Czech Republic       |   446758 |    9321 |       0 |       0 |\n| Pakistan             |   421626 |   22607 |       0 |       0 |\n| Denmark              |   383167 |    6867 |       0 |       0 |\n| Malaysia             |   345880 |    2257 |       0 |       0 |\n| Ukraine              |   339762 |   23619 |  501572 |       0 |\n| Austria              |   337293 |    5366 |       0 |       0 |\n| Bangladesh           |   320834 |   49531 |  685992 |       0 |\n| Lithuania            |   302743 |    1674 |   46323 |       0 |\n| United Arab Emirates |   299755 |    3044 |       0 |       0 |\n| New Zealand          |   281301 |    1221 |   47365 |   25241 |\n| Spain                |   252243 |    8970 |       0 |       0 |\n| Philippines          |   245525 |    6630 |       0 |       0 |\n| Serbia               |   242139 |   11357 |  320568 |  111807 |\n| Japan                |   235826 |    9196 |       0 |       0 |\n| Portugal             |   221534 |    5623 |       0 |       0 |\n| South Africa         |   207167 |    2993 |       0 |       0 |\n| ⋮ | ⋮ | ⋮ | ⋮ | ⋮ |\n| Uganda              | 8053 |   2 | 0 | 0 |\n| Ethiopia            | 6460 |   0 | 0 | 0 |\n| Tunisia             | 6436 |  20 | 0 | 0 |\n| Cuba                | 5978 |  50 | 0 | 0 |\n| Albania             | 5794 | 374 | 0 | 0 |\n| North Macedonia     | 5473 | 506 | 0 | 0 |\n| Montenegro          | 4556 | 143 | 0 | 0 |\n| Egypt               | 4220 | 288 | 0 | 0 |\n| Uruguay             | 4059 |  38 | 0 | 0 |\n| Panama              | 3797 | 605 | 0 | 0 |\n| Kenya               | 2989 |  29 | 0 | 0 |\n| Palestine           | 2385 |  27 | 0 | 0 |\n| El Salvador         | 1993 |   0 | 0 | 0 |\n| Cameroon            | 1928 | 108 | 0 | 0 |\n| Bolivia             | 1717 | 148 | 0 | 0 |\n| Lebanon             | 1149 |   0 | 0 | 0 |\n| Senegal             | 1132 |   0 | 0 | 0 |\n| Ivory Coast         | 1065 |  31 | 0 | 0 |\n| Myanmar             |  969 |   0 | 0 | 0 |\n| Jamaica             |  840 |  29 | 0 | 0 |\n| Barbados            |  594 |   2 | 0 | 0 |\n| Mozambique          |  374 |   0 | 0 | 0 |\n| Burkina Faso        |  331 |   0 | 0 | 0 |\n| Congo               |  223 |  14 | 0 | 0 |\n| Guinea              |  193 |   0 | 0 | 0 |\n| Trinidad and Tobago |  188 |   5 | 0 | 0 |\n| Grenada             |  173 |   0 | 0 | 0 |\n| Malawi              |   93 |   1 | 0 | 0 |\n| North Korea         |    2 |   0 | 0 | 0 |\n| Tanzania            |    0 |   0 | 0 | 0 |\n\n",
            "text/latex": "A tibble: 108 × 5\n\\begin{tabular}{lllll}\n Country\\_Region & tested & positive & active & hospitalized\\\\\n <chr> & <dbl> & <dbl> & <dbl> & <dbl>\\\\\n\\hline\n\t United States        & 17282363 & 1877179 &       0 &       0\\\\\n\t Russia               & 10542266 &  406368 & 6924890 &       0\\\\\n\t Italy                &  4091291 &  251710 & 6202214 & 1699003\\\\\n\t India                &  3692851 &   60959 &       0 &       0\\\\\n\t Turkey               &  2031192 &  163941 & 2980960 &       0\\\\\n\t Canada               &  1654779 &   90873 &   56454 &       0\\\\\n\t United Kingdom       &  1473672 &  166909 &       0 &       0\\\\\n\t Australia            &  1252900 &    7200 &  134586 &    6655\\\\\n\t Peru                 &   976790 &   59497 &       0 &       0\\\\\n\t Poland               &   928256 &   23987 &  538203 &       0\\\\\n\t South Korea          &   916276 &   11493 &  302633 &       0\\\\\n\t Israel               &   546626 &   16647 &       0 &   30653\\\\\n\t Germany              &   518647 &   29943 &       0 &       0\\\\\n\t Belgium              &   511055 &   54209 &  220744 &       0\\\\\n\t Czech Republic       &   446758 &    9321 &       0 &       0\\\\\n\t Pakistan             &   421626 &   22607 &       0 &       0\\\\\n\t Denmark              &   383167 &    6867 &       0 &       0\\\\\n\t Malaysia             &   345880 &    2257 &       0 &       0\\\\\n\t Ukraine              &   339762 &   23619 &  501572 &       0\\\\\n\t Austria              &   337293 &    5366 &       0 &       0\\\\\n\t Bangladesh           &   320834 &   49531 &  685992 &       0\\\\\n\t Lithuania            &   302743 &    1674 &   46323 &       0\\\\\n\t United Arab Emirates &   299755 &    3044 &       0 &       0\\\\\n\t New Zealand          &   281301 &    1221 &   47365 &   25241\\\\\n\t Spain                &   252243 &    8970 &       0 &       0\\\\\n\t Philippines          &   245525 &    6630 &       0 &       0\\\\\n\t Serbia               &   242139 &   11357 &  320568 &  111807\\\\\n\t Japan                &   235826 &    9196 &       0 &       0\\\\\n\t Portugal             &   221534 &    5623 &       0 &       0\\\\\n\t South Africa         &   207167 &    2993 &       0 &       0\\\\\n\t ⋮ & ⋮ & ⋮ & ⋮ & ⋮\\\\\n\t Uganda              & 8053 &   2 & 0 & 0\\\\\n\t Ethiopia            & 6460 &   0 & 0 & 0\\\\\n\t Tunisia             & 6436 &  20 & 0 & 0\\\\\n\t Cuba                & 5978 &  50 & 0 & 0\\\\\n\t Albania             & 5794 & 374 & 0 & 0\\\\\n\t North Macedonia     & 5473 & 506 & 0 & 0\\\\\n\t Montenegro          & 4556 & 143 & 0 & 0\\\\\n\t Egypt               & 4220 & 288 & 0 & 0\\\\\n\t Uruguay             & 4059 &  38 & 0 & 0\\\\\n\t Panama              & 3797 & 605 & 0 & 0\\\\\n\t Kenya               & 2989 &  29 & 0 & 0\\\\\n\t Palestine           & 2385 &  27 & 0 & 0\\\\\n\t El Salvador         & 1993 &   0 & 0 & 0\\\\\n\t Cameroon            & 1928 & 108 & 0 & 0\\\\\n\t Bolivia             & 1717 & 148 & 0 & 0\\\\\n\t Lebanon             & 1149 &   0 & 0 & 0\\\\\n\t Senegal             & 1132 &   0 & 0 & 0\\\\\n\t Ivory Coast         & 1065 &  31 & 0 & 0\\\\\n\t Myanmar             &  969 &   0 & 0 & 0\\\\\n\t Jamaica             &  840 &  29 & 0 & 0\\\\\n\t Barbados            &  594 &   2 & 0 & 0\\\\\n\t Mozambique          &  374 &   0 & 0 & 0\\\\\n\t Burkina Faso        &  331 &   0 & 0 & 0\\\\\n\t Congo               &  223 &  14 & 0 & 0\\\\\n\t Guinea              &  193 &   0 & 0 & 0\\\\\n\t Trinidad and Tobago &  188 &   5 & 0 & 0\\\\\n\t Grenada             &  173 &   0 & 0 & 0\\\\\n\t Malawi              &   93 &   1 & 0 & 0\\\\\n\t North Korea         &    2 &   0 & 0 & 0\\\\\n\t Tanzania            &    0 &   0 & 0 & 0\\\\\n\\end{tabular}\n",
            "text/plain": [
              "    Country_Region       tested   positive active  hospitalized\n",
              "1   United States        17282363 1877179        0       0     \n",
              "2   Russia               10542266  406368  6924890       0     \n",
              "3   Italy                 4091291  251710  6202214 1699003     \n",
              "4   India                 3692851   60959        0       0     \n",
              "5   Turkey                2031192  163941  2980960       0     \n",
              "6   Canada                1654779   90873    56454       0     \n",
              "7   United Kingdom        1473672  166909        0       0     \n",
              "8   Australia             1252900    7200   134586    6655     \n",
              "9   Peru                   976790   59497        0       0     \n",
              "10  Poland                 928256   23987   538203       0     \n",
              "11  South Korea            916276   11493   302633       0     \n",
              "12  Israel                 546626   16647        0   30653     \n",
              "13  Germany                518647   29943        0       0     \n",
              "14  Belgium                511055   54209   220744       0     \n",
              "15  Czech Republic         446758    9321        0       0     \n",
              "16  Pakistan               421626   22607        0       0     \n",
              "17  Denmark                383167    6867        0       0     \n",
              "18  Malaysia               345880    2257        0       0     \n",
              "19  Ukraine                339762   23619   501572       0     \n",
              "20  Austria                337293    5366        0       0     \n",
              "21  Bangladesh             320834   49531   685992       0     \n",
              "22  Lithuania              302743    1674    46323       0     \n",
              "23  United Arab Emirates   299755    3044        0       0     \n",
              "24  New Zealand            281301    1221    47365   25241     \n",
              "25  Spain                  252243    8970        0       0     \n",
              "26  Philippines            245525    6630        0       0     \n",
              "27  Serbia                 242139   11357   320568  111807     \n",
              "28  Japan                  235826    9196        0       0     \n",
              "29  Portugal               221534    5623        0       0     \n",
              "30  South Africa           207167    2993        0       0     \n",
              "⋮   ⋮                    ⋮        ⋮        ⋮       ⋮           \n",
              "79  Uganda               8053       2      0       0           \n",
              "80  Ethiopia             6460       0      0       0           \n",
              "81  Tunisia              6436      20      0       0           \n",
              "82  Cuba                 5978      50      0       0           \n",
              "83  Albania              5794     374      0       0           \n",
              "84  North Macedonia      5473     506      0       0           \n",
              "85  Montenegro           4556     143      0       0           \n",
              "86  Egypt                4220     288      0       0           \n",
              "87  Uruguay              4059      38      0       0           \n",
              "88  Panama               3797     605      0       0           \n",
              "89  Kenya                2989      29      0       0           \n",
              "90  Palestine            2385      27      0       0           \n",
              "91  El Salvador          1993       0      0       0           \n",
              "92  Cameroon             1928     108      0       0           \n",
              "93  Bolivia              1717     148      0       0           \n",
              "94  Lebanon              1149       0      0       0           \n",
              "95  Senegal              1132       0      0       0           \n",
              "96  Ivory Coast          1065      31      0       0           \n",
              "97  Myanmar               969       0      0       0           \n",
              "98  Jamaica               840      29      0       0           \n",
              "99  Barbados              594       2      0       0           \n",
              "100 Mozambique            374       0      0       0           \n",
              "101 Burkina Faso          331       0      0       0           \n",
              "102 Congo                 223      14      0       0           \n",
              "103 Guinea                193       0      0       0           \n",
              "104 Trinidad and Tobago   188       5      0       0           \n",
              "105 Grenada               173       0      0       0           \n",
              "106 Malawi                 93       1      0       0           \n",
              "107 North Korea             2       0      0       0           \n",
              "108 Tanzania                0       0      0       0           "
            ]
          },
          "metadata": {}
        }
      ]
    },
    {
      "cell_type": "code",
      "source": [
        "# Taking the top 10 countries\n",
        "top_10 <- head(df_all_states_daily_sum, 10)\n",
        "kable(top_10, caption = 'Top 10 Countries')"
      ],
      "metadata": {
        "colab": {
          "base_uri": "https://localhost:8080/",
          "height": 295
        },
        "id": "iXTERuhI9FRL",
        "outputId": "2f71e165-170b-4f35-cde0-b01087f6acc2"
      },
      "execution_count": null,
      "outputs": [
        {
          "output_type": "display_data",
          "data": {
            "text/plain": [
              "\n",
              "\n",
              "Table: Top 10 Countries\n",
              "\n",
              "|Country_Region |   tested| positive|  active| hospitalized|\n",
              "|:--------------|--------:|--------:|-------:|------------:|\n",
              "|United States  | 17282363|  1877179|       0|            0|\n",
              "|Russia         | 10542266|   406368| 6924890|            0|\n",
              "|Italy          |  4091291|   251710| 6202214|      1699003|\n",
              "|India          |  3692851|    60959|       0|            0|\n",
              "|Turkey         |  2031192|   163941| 2980960|            0|\n",
              "|Canada         |  1654779|    90873|   56454|            0|\n",
              "|United Kingdom |  1473672|   166909|       0|            0|\n",
              "|Australia      |  1252900|     7200|  134586|         6655|\n",
              "|Peru           |   976790|    59497|       0|            0|\n",
              "|Poland         |   928256|    23987|  538203|            0|"
            ]
          },
          "metadata": {}
        }
      ]
    },
    {
      "cell_type": "markdown",
      "source": [
        "Now, let's visualize how many tested people have each country from the top 10.\n"
      ],
      "metadata": {
        "id": "EsTiWGf19KZi"
      }
    },
    {
      "cell_type": "code",
      "source": [
        "ggplot(data = top_10, aes(x=reorder(Country_Region, -tested), y=tested))+\n",
        "  geom_bar(stat=\"identity\", fill=\"steelblue\")+\n",
        "  theme(axis.text.x = element_text(angle = 45, hjust = 1))+\n",
        "  ylab('')+\n",
        "  xlab('')+\n",
        "  geom_text(aes(label = tested), vjust = -0.3, size = 3)+\n",
        "  ggtitle('Tested People in top 10 Countries')"
      ],
      "metadata": {
        "colab": {
          "base_uri": "https://localhost:8080/",
          "height": 437
        },
        "id": "LPzIARfL9L06",
        "outputId": "a928d09b-a4f8-40fd-e58f-dc983afba630"
      },
      "execution_count": null,
      "outputs": [
        {
          "output_type": "display_data",
          "data": {
            "text/plain": [
              "plot without title"
            ],
            "image/png": "[encoded data removed]"
          },
          "metadata": {
            "image/png": {
              "width": 420,
              "height": 420
            }
          }
        }
      ]
    },
    {
      "cell_type": "markdown",
      "source": [
        "# Calculating Ratio of Positive Against Tested Cases\n",
        "\n",
        "Now let's calcualte teh ratio of positive against tested cases. I chose the top three countries. To do this I have to divide positive vector by tested vector, then choose top three."
      ],
      "metadata": {
        "id": "d6QsSdi39NiK"
      }
    },
    {
      "cell_type": "code",
      "source": [
        "# Extarcting vectors from dataframe\n",
        "countries <- top_10$Country_Region\n",
        "tested <- top_10$tested\n",
        "positive <- top_10$positive\n",
        "active <- top_10$active\n",
        "hospitalized <- top_10$hospitalized\n",
        "\n",
        "# Adding names to vectors\n",
        "names(tested) <- countries\n",
        "names(positive) <- countries\n",
        "names(active) <- countries\n",
        "names(hospitalized) <- countries\n",
        "\n",
        "# Calculating ratio of positive against tested cases\n",
        "top_3 <- top_10 %>%\n",
        "  group_by(Country_Region) %>%\n",
        "  summarize(Ratio = round(positive / tested,3),\n",
        "            tested = tested,\n",
        "            positive = positive,\n",
        "            active = active,\n",
        "            hospitalized = hospitalized) %>%\n",
        "  arrange(-Ratio) %>%\n",
        "  head(3)\n",
        "(top_3 <- data.frame(top_3))"
      ],
      "metadata": {
        "colab": {
          "base_uri": "https://localhost:8080/",
          "height": 192
        },
        "id": "IuTko0Os9Y86",
        "outputId": "718368cc-cd5d-4baa-db10-7962eb005292"
      },
      "execution_count": null,
      "outputs": [
        {
          "output_type": "display_data",
          "data": {
            "text/html": [
              "<table class=\"dataframe\">\n",
              "<caption>A data.frame: 3 × 6</caption>\n",
              "<thead>\n",
              "\t<tr><th scope=col>Country_Region</th><th scope=col>Ratio</th><th scope=col>tested</th><th scope=col>positive</th><th scope=col>active</th><th scope=col>hospitalized</th></tr>\n",
              "\t<tr><th scope=col>&lt;chr&gt;</th><th scope=col>&lt;dbl&gt;</th><th scope=col>&lt;dbl&gt;</th><th scope=col>&lt;dbl&gt;</th><th scope=col>&lt;dbl&gt;</th><th scope=col>&lt;dbl&gt;</th></tr>\n",
              "</thead>\n",
              "<tbody>\n",
              "\t<tr><td>United Kingdom</td><td>0.113</td><td> 1473672</td><td> 166909</td><td>      0</td><td>0</td></tr>\n",
              "\t<tr><td>United States </td><td>0.109</td><td>17282363</td><td>1877179</td><td>      0</td><td>0</td></tr>\n",
              "\t<tr><td>Turkey        </td><td>0.081</td><td> 2031192</td><td> 163941</td><td>2980960</td><td>0</td></tr>\n",
              "</tbody>\n",
              "</table>\n"
            ],
            "text/markdown": "\nA data.frame: 3 × 6\n\n| Country_Region &lt;chr&gt; | Ratio &lt;dbl&gt; | tested &lt;dbl&gt; | positive &lt;dbl&gt; | active &lt;dbl&gt; | hospitalized &lt;dbl&gt; |\n|---|---|---|---|---|---|\n| United Kingdom | 0.113 |  1473672 |  166909 |       0 | 0 |\n| United States  | 0.109 | 17282363 | 1877179 |       0 | 0 |\n| Turkey         | 0.081 |  2031192 |  163941 | 2980960 | 0 |\n\n",
            "text/latex": "A data.frame: 3 × 6\n\\begin{tabular}{llllll}\n Country\\_Region & Ratio & tested & positive & active & hospitalized\\\\\n <chr> & <dbl> & <dbl> & <dbl> & <dbl> & <dbl>\\\\\n\\hline\n\t United Kingdom & 0.113 &  1473672 &  166909 &       0 & 0\\\\\n\t United States  & 0.109 & 17282363 & 1877179 &       0 & 0\\\\\n\t Turkey         & 0.081 &  2031192 &  163941 & 2980960 & 0\\\\\n\\end{tabular}\n",
            "text/plain": [
              "  Country_Region Ratio tested   positive active  hospitalized\n",
              "1 United Kingdom 0.113  1473672  166909        0 0           \n",
              "2 United States  0.109 17282363 1877179        0 0           \n",
              "3 Turkey         0.081  2031192  163941  2980960 0           "
            ]
          },
          "metadata": {}
        }
      ]
    },
    {
      "cell_type": "markdown",
      "source": [
        "Above we have 3 countries with best ratio of positive against tested cases. The order is as follows:\n",
        "\n",
        "1. UNITED KINGDOM   **0.1133**\n",
        "2. UNITED STATES    **0.1086**\n",
        "3. TURKEY           **0.0871**\n",
        "\n",
        "And this my answer on my aim of this project which was: **Which countries have had the highest number of positive cases against the number of tests?**\n",
        "\n",
        "Below I want to show you all results in one simple list as effect of my project."
      ],
      "metadata": {
        "id": "cOpeJ_2Q9b9S"
      }
    },
    {
      "cell_type": "code",
      "source": [
        "question <- \"Which countries have had the highest number of positive cases against the number of tests?\"\n",
        "answer <-  c(\"Positive tested cases\" = top_3)\n",
        "data_structure_list <- list('dataframes' = list(df, df_all_states, df_all_states_daily, df_all_states_daily_sum, top_10),\n",
        "                         'vectors' = list(countries, tested, positive, active, hospitalized))\n",
        "\n",
        "covid_analysis_list <- list('question'=question, 'answer'=answer, data_structure_list)"
      ],
      "metadata": {
        "id": "gb44yuaB9u93"
      },
      "execution_count": null,
      "outputs": []
    }
  ]
}