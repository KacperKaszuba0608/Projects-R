{
  "nbformat": 4,
  "nbformat_minor": 0,
  "metadata": {
    "colab": {
      "provenance": [],
      "include_colab_link": true
    },
    "kernelspec": {
      "name": "ir",
      "display_name": "R"
    },
    "language_info": {
      "name": "R"
    }
  },
  "cells": [
    {
      "cell_type": "markdown",
      "metadata": {
        "id": "view-in-github",
        "colab_type": "text"
      },
      "source": [
        "<a href=\"https://colab.research.google.com/github/KacperKaszuba0608/Projects-R/blob/main/Creating_An_Efficient_Data_Analysis_Workflow.ipynb\" target=\"_parent\"><img src=\"https://colab.research.google.com/assets/colab-badge.svg\" alt=\"Open In Colab\"/></a>"
      ]
    },
    {
      "cell_type": "markdown",
      "source": [
        "# Creating An Efficient Data Analysis Workflow"
      ],
      "metadata": {
        "id": "bSKQS2ESoRTn"
      }
    },
    {
      "cell_type": "markdown",
      "source": [
        "## Introdution\n",
        "\n",
        "This project will be about analysis of data for a company that sells books for learning programming. This company has produced multiple books, and each has received many reviews. The company wants us to check out the sales data and see if we can extract any useful information from it."
      ],
      "metadata": {
        "id": "8XjsmiOJoRxP"
      }
    },
    {
      "cell_type": "markdown",
      "source": [
        "## Loading Libraries and Reading in Dataset"
      ],
      "metadata": {
        "id": "7kON9zFYoWXv"
      }
    },
    {
      "cell_type": "code",
      "source": [
        "library(tidyverse)\n",
        "library(ggplot2)\n",
        "\n",
        "# Reading in dataset in csv file\n",
        "df <- read_csv('https://raw.githubusercontent.com/KacperKaszuba0608/Datasets/main/book_reviews.csv')"
      ],
      "metadata": {
        "colab": {
          "base_uri": "https://localhost:8080/"
        },
        "id": "3DF6alPpoZUV",
        "outputId": "d8d609cd-9271-4069-a4d3-9ba02fcff2d8"
      },
      "execution_count": null,
      "outputs": [
        {
          "output_type": "stream",
          "name": "stderr",
          "text": [
            "Warning message in system(\"timedatectl\", intern = TRUE):\n",
            "“running command 'timedatectl' had status 1”\n",
            "── \u001b[1mAttaching packages\u001b[22m ─────────────────────────────────────── tidyverse 1.3.1 ──\n",
            "\n",
            "\u001b[32m✔\u001b[39m \u001b[34mggplot2\u001b[39m 3.4.0      \u001b[32m✔\u001b[39m \u001b[34mpurrr  \u001b[39m 1.0.1 \n",
            "\u001b[32m✔\u001b[39m \u001b[34mtibble \u001b[39m 3.1.8      \u001b[32m✔\u001b[39m \u001b[34mdplyr  \u001b[39m 1.0.10\n",
            "\u001b[32m✔\u001b[39m \u001b[34mtidyr  \u001b[39m 1.3.0      \u001b[32m✔\u001b[39m \u001b[34mstringr\u001b[39m 1.4.1 \n",
            "\u001b[32m✔\u001b[39m \u001b[34mreadr  \u001b[39m 2.1.3      \u001b[32m✔\u001b[39m \u001b[34mforcats\u001b[39m 0.5.2 \n",
            "\n",
            "── \u001b[1mConflicts\u001b[22m ────────────────────────────────────────── tidyverse_conflicts() ──\n",
            "\u001b[31m✖\u001b[39m \u001b[34mdplyr\u001b[39m::\u001b[32mfilter()\u001b[39m masks \u001b[34mstats\u001b[39m::filter()\n",
            "\u001b[31m✖\u001b[39m \u001b[34mdplyr\u001b[39m::\u001b[32mlag()\u001b[39m    masks \u001b[34mstats\u001b[39m::lag()\n",
            "\n",
            "\u001b[1mRows: \u001b[22m\u001b[34m2000\u001b[39m \u001b[1mColumns: \u001b[22m\u001b[34m4\u001b[39m\n",
            "\u001b[36m──\u001b[39m \u001b[1mColumn specification\u001b[22m \u001b[36m────────────────────────────────────────────────────────\u001b[39m\n",
            "\u001b[1mDelimiter:\u001b[22m \",\"\n",
            "\u001b[31mchr\u001b[39m (3): book, review, state\n",
            "\u001b[32mdbl\u001b[39m (1): price\n",
            "\n",
            "\u001b[36mℹ\u001b[39m Use `spec()` to retrieve the full column specification for this data.\n",
            "\u001b[36mℹ\u001b[39m Specify the column types or set `show_col_types = FALSE` to quiet this message.\n"
          ]
        }
      ]
    },
    {
      "cell_type": "markdown",
      "source": [
        "## Getting informations about data"
      ],
      "metadata": {
        "id": "IESNW3VhokHf"
      }
    },
    {
      "cell_type": "code",
      "source": [
        "# Showing first five rows\n",
        "head(df)"
      ],
      "metadata": {
        "colab": {
          "base_uri": "https://localhost:8080/",
          "height": 286
        },
        "id": "lo-hUGSioorP",
        "outputId": "d4a2b84d-4179-4e66-d083-87ff20e7e990"
      },
      "execution_count": null,
      "outputs": [
        {
          "output_type": "display_data",
          "data": {
            "text/html": [
              "<table class=\"dataframe\">\n",
              "<caption>A tibble: 6 × 4</caption>\n",
              "<thead>\n",
              "\t<tr><th scope=col>book</th><th scope=col>review</th><th scope=col>state</th><th scope=col>price</th></tr>\n",
              "\t<tr><th scope=col>&lt;chr&gt;</th><th scope=col>&lt;chr&gt;</th><th scope=col>&lt;chr&gt;</th><th scope=col>&lt;dbl&gt;</th></tr>\n",
              "</thead>\n",
              "<tbody>\n",
              "\t<tr><td>R Made Easy                       </td><td>Excellent</td><td>TX        </td><td>19.99</td></tr>\n",
              "\t<tr><td>R For Dummies                     </td><td>Fair     </td><td>NY        </td><td>15.99</td></tr>\n",
              "\t<tr><td>R Made Easy                       </td><td>Excellent</td><td>NY        </td><td>19.99</td></tr>\n",
              "\t<tr><td>R Made Easy                       </td><td>Poor     </td><td>FL        </td><td>19.99</td></tr>\n",
              "\t<tr><td>Secrets Of R For Advanced Students</td><td>Great    </td><td>Texas     </td><td>50.00</td></tr>\n",
              "\t<tr><td>R Made Easy                       </td><td>NA       </td><td>California</td><td>19.99</td></tr>\n",
              "</tbody>\n",
              "</table>\n"
            ],
            "text/markdown": "\nA tibble: 6 × 4\n\n| book &lt;chr&gt; | review &lt;chr&gt; | state &lt;chr&gt; | price &lt;dbl&gt; |\n|---|---|---|---|\n| R Made Easy                        | Excellent | TX         | 19.99 |\n| R For Dummies                      | Fair      | NY         | 15.99 |\n| R Made Easy                        | Excellent | NY         | 19.99 |\n| R Made Easy                        | Poor      | FL         | 19.99 |\n| Secrets Of R For Advanced Students | Great     | Texas      | 50.00 |\n| R Made Easy                        | NA        | California | 19.99 |\n\n",
            "text/latex": "A tibble: 6 × 4\n\\begin{tabular}{llll}\n book & review & state & price\\\\\n <chr> & <chr> & <chr> & <dbl>\\\\\n\\hline\n\t R Made Easy                        & Excellent & TX         & 19.99\\\\\n\t R For Dummies                      & Fair      & NY         & 15.99\\\\\n\t R Made Easy                        & Excellent & NY         & 19.99\\\\\n\t R Made Easy                        & Poor      & FL         & 19.99\\\\\n\t Secrets Of R For Advanced Students & Great     & Texas      & 50.00\\\\\n\t R Made Easy                        & NA        & California & 19.99\\\\\n\\end{tabular}\n",
            "text/plain": [
              "  book                               review    state      price\n",
              "1 R Made Easy                        Excellent TX         19.99\n",
              "2 R For Dummies                      Fair      NY         15.99\n",
              "3 R Made Easy                        Excellent NY         19.99\n",
              "4 R Made Easy                        Poor      FL         19.99\n",
              "5 Secrets Of R For Advanced Students Great     Texas      50.00\n",
              "6 R Made Easy                        NA        California 19.99"
            ]
          },
          "metadata": {}
        }
      ]
    },
    {
      "cell_type": "code",
      "source": [
        "# Extarcting number of rows and columns\n",
        "dim(df)"
      ],
      "metadata": {
        "colab": {
          "base_uri": "https://localhost:8080/",
          "height": 34
        },
        "id": "mFJs9l5ooq83",
        "outputId": "3ffff4d1-deb9-4349-caca-6285169eeabf"
      },
      "execution_count": null,
      "outputs": [
        {
          "output_type": "display_data",
          "data": {
            "text/html": [
              "<style>\n",
              ".list-inline {list-style: none; margin:0; padding: 0}\n",
              ".list-inline>li {display: inline-block}\n",
              ".list-inline>li:not(:last-child)::after {content: \"\\00b7\"; padding: 0 .5ex}\n",
              "</style>\n",
              "<ol class=list-inline><li>2000</li><li>4</li></ol>\n"
            ],
            "text/markdown": "1. 2000\n2. 4\n\n\n",
            "text/latex": "\\begin{enumerate*}\n\\item 2000\n\\item 4\n\\end{enumerate*}\n",
            "text/plain": [
              "[1] 2000    4"
            ]
          },
          "metadata": {}
        }
      ]
    },
    {
      "cell_type": "code",
      "source": [
        "# Extracting some informations about data with examples\n",
        "glimpse(df)"
      ],
      "metadata": {
        "colab": {
          "base_uri": "https://localhost:8080/"
        },
        "id": "wFoQx3Cfosmv",
        "outputId": "6bc00952-d157-45b5-e64e-29ebe9bd2ab8"
      },
      "execution_count": null,
      "outputs": [
        {
          "output_type": "stream",
          "name": "stdout",
          "text": [
            "Rows: 2,000\n",
            "Columns: 4\n",
            "$ book   \u001b[3m\u001b[90m<chr>\u001b[39m\u001b[23m \"R Made Easy\", \"R For Dummies\", \"R Made Easy\", \"R Made Easy\", \"…\n",
            "$ review \u001b[3m\u001b[90m<chr>\u001b[39m\u001b[23m \"Excellent\", \"Fair\", \"Excellent\", \"Poor\", \"Great\", NA, \"Great\",…\n",
            "$ state  \u001b[3m\u001b[90m<chr>\u001b[39m\u001b[23m \"TX\", \"NY\", \"NY\", \"FL\", \"Texas\", \"California\", \"Florida\", \"CA\",…\n",
            "$ price  \u001b[3m\u001b[90m<dbl>\u001b[39m\u001b[23m 19.99, 15.99, 19.99, 19.99, 50.00, 19.99, 19.99, 19.99, 29.99, …\n"
          ]
        }
      ]
    },
    {
      "cell_type": "code",
      "source": [
        "# Summary of data\n",
        "summary(df)"
      ],
      "metadata": {
        "colab": {
          "base_uri": "https://localhost:8080/",
          "height": 139
        },
        "id": "oW3C5o1DouP3",
        "outputId": "34e7a585-0650-4ffb-cc91-ddf3adbbca7c"
      },
      "execution_count": null,
      "outputs": [
        {
          "output_type": "display_data",
          "data": {
            "text/plain": [
              "     book              review             state               price      \n",
              " Length:2000        Length:2000        Length:2000        Min.   :15.99  \n",
              " Class :character   Class :character   Class :character   1st Qu.:19.99  \n",
              " Mode  :character   Mode  :character   Mode  :character   Median :29.99  \n",
              "                                                          Mean   :31.29  \n",
              "                                                          3rd Qu.:39.99  \n",
              "                                                          Max.   :50.00  "
            ]
          },
          "metadata": {}
        }
      ]
    },
    {
      "cell_type": "markdown",
      "source": [
        "As we see in above results we have 2000 rows and 4 columns in our dataset. First 3 columns are character type and last one is numeric. We have some NA values. Minimum price in last column is 15.99\\$ and maximum is 50.00\\$. Median of all values equals 29.99\\$ and mean 31.29\\$. 25% of values are greater than 19.99\\$ and 75% values are less than 39.99\\$.\n",
        "\n",
        "The columns are named as follows:\n",
        "\n",
        "1. book - name of a book\n",
        "2. review - column contains score of a book\n",
        "3. state - contains name or short name of state in USA\n",
        "4. price - price of each book"
      ],
      "metadata": {
        "id": "PulcJ2XaovxH"
      }
    },
    {
      "cell_type": "code",
      "source": [
        "# Taking unique values of each column\n",
        "names <- colnames(df)\n",
        "\n",
        "map(df[names], unique)"
      ],
      "metadata": {
        "colab": {
          "base_uri": "https://localhost:8080/",
          "height": 184
        },
        "id": "9oUrd-xgox43",
        "outputId": "b4168b43-56b7-40a8-d77a-ea33ff9d9cd1"
      },
      "execution_count": null,
      "outputs": [
        {
          "output_type": "display_data",
          "data": {
            "text/html": [
              "<dl>\n",
              "\t<dt>$book</dt>\n",
              "\t\t<dd><style>\n",
              ".list-inline {list-style: none; margin:0; padding: 0}\n",
              ".list-inline>li {display: inline-block}\n",
              ".list-inline>li:not(:last-child)::after {content: \"\\00b7\"; padding: 0 .5ex}\n",
              "</style>\n",
              "<ol class=list-inline><li>'R Made Easy'</li><li>'R For Dummies'</li><li>'Secrets Of R For Advanced Students'</li><li>'Top 10 Mistakes R Beginners Make'</li><li>'Fundamentals of R For Beginners'</li></ol>\n",
              "</dd>\n",
              "\t<dt>$review</dt>\n",
              "\t\t<dd><style>\n",
              ".list-inline {list-style: none; margin:0; padding: 0}\n",
              ".list-inline>li {display: inline-block}\n",
              ".list-inline>li:not(:last-child)::after {content: \"\\00b7\"; padding: 0 .5ex}\n",
              "</style>\n",
              "<ol class=list-inline><li>'Excellent'</li><li>'Fair'</li><li>'Poor'</li><li>'Great'</li><li>NA</li><li>'Good'</li></ol>\n",
              "</dd>\n",
              "\t<dt>$state</dt>\n",
              "\t\t<dd><style>\n",
              ".list-inline {list-style: none; margin:0; padding: 0}\n",
              ".list-inline>li {display: inline-block}\n",
              ".list-inline>li:not(:last-child)::after {content: \"\\00b7\"; padding: 0 .5ex}\n",
              "</style>\n",
              "<ol class=list-inline><li>'TX'</li><li>'NY'</li><li>'FL'</li><li>'Texas'</li><li>'California'</li><li>'Florida'</li><li>'CA'</li><li>'New York'</li></ol>\n",
              "</dd>\n",
              "\t<dt>$price</dt>\n",
              "\t\t<dd><style>\n",
              ".list-inline {list-style: none; margin:0; padding: 0}\n",
              ".list-inline>li {display: inline-block}\n",
              ".list-inline>li:not(:last-child)::after {content: \"\\00b7\"; padding: 0 .5ex}\n",
              "</style>\n",
              "<ol class=list-inline><li>19.99</li><li>15.99</li><li>50</li><li>29.99</li><li>39.99</li></ol>\n",
              "</dd>\n",
              "</dl>\n"
            ],
            "text/markdown": "$book\n:   1. 'R Made Easy'\n2. 'R For Dummies'\n3. 'Secrets Of R For Advanced Students'\n4. 'Top 10 Mistakes R Beginners Make'\n5. 'Fundamentals of R For Beginners'\n\n\n\n$review\n:   1. 'Excellent'\n2. 'Fair'\n3. 'Poor'\n4. 'Great'\n5. NA\n6. 'Good'\n\n\n\n$state\n:   1. 'TX'\n2. 'NY'\n3. 'FL'\n4. 'Texas'\n5. 'California'\n6. 'Florida'\n7. 'CA'\n8. 'New York'\n\n\n\n$price\n:   1. 19.99\n2. 15.99\n3. 50\n4. 29.99\n5. 39.99\n\n\n\n\n\n",
            "text/latex": "\\begin{description}\n\\item[\\$book] \\begin{enumerate*}\n\\item 'R Made Easy'\n\\item 'R For Dummies'\n\\item 'Secrets Of R For Advanced Students'\n\\item 'Top 10 Mistakes R Beginners Make'\n\\item 'Fundamentals of R For Beginners'\n\\end{enumerate*}\n\n\\item[\\$review] \\begin{enumerate*}\n\\item 'Excellent'\n\\item 'Fair'\n\\item 'Poor'\n\\item 'Great'\n\\item NA\n\\item 'Good'\n\\end{enumerate*}\n\n\\item[\\$state] \\begin{enumerate*}\n\\item 'TX'\n\\item 'NY'\n\\item 'FL'\n\\item 'Texas'\n\\item 'California'\n\\item 'Florida'\n\\item 'CA'\n\\item 'New York'\n\\end{enumerate*}\n\n\\item[\\$price] \\begin{enumerate*}\n\\item 19.99\n\\item 15.99\n\\item 50\n\\item 29.99\n\\item 39.99\n\\end{enumerate*}\n\n\\end{description}\n",
            "text/plain": [
              "$book\n",
              "[1] \"R Made Easy\"                        \"R For Dummies\"                     \n",
              "[3] \"Secrets Of R For Advanced Students\" \"Top 10 Mistakes R Beginners Make\"  \n",
              "[5] \"Fundamentals of R For Beginners\"   \n",
              "\n",
              "$review\n",
              "[1] \"Excellent\" \"Fair\"      \"Poor\"      \"Great\"     NA          \"Good\"     \n",
              "\n",
              "$state\n",
              "[1] \"TX\"         \"NY\"         \"FL\"         \"Texas\"      \"California\"\n",
              "[6] \"Florida\"    \"CA\"         \"New York\"  \n",
              "\n",
              "$price\n",
              "[1] 19.99 15.99 50.00 29.99 39.99\n"
            ]
          },
          "metadata": {}
        }
      ]
    },
    {
      "cell_type": "markdown",
      "source": [
        "|   |   |\n",
        "|:---|:---|\n",
        "|**book column**| \"R Made Easy\", \"R For Dummies\", \"Secrets Of R For Advanced Students\", \"Top 10 Mistakes R Beginners Make\", \"Fundamentals of R For Beginners\" |\n",
        "|**review column**| Excellent, Fair, Poor, Great, Good, NA value |\n",
        "|**state column**|TX, NY, FL, CA, Texas, California, Florida, New York |\n",
        "|**price column**|19.99, 15.99, 50.00, 29.99, 39.99|"
      ],
      "metadata": {
        "id": "nvE6OXBpozyW"
      }
    },
    {
      "cell_type": "markdown",
      "source": [
        "## Cleaning data"
      ],
      "metadata": {
        "id": "waR7IIr5o3TW"
      }
    },
    {
      "cell_type": "markdown",
      "source": [
        "### Handling Missing Data\n",
        "\n",
        "As we see above column `review` has some missing values called `NA`. I will remove them, because I want to have clean dataset without the missing values."
      ],
      "metadata": {
        "id": "3nlOXRVgo7i-"
      }
    },
    {
      "cell_type": "code",
      "source": [
        "# Filtering data\n",
        "df <- df %>%\n",
        "  filter(!(is.na(review)))\n",
        "\n",
        "map(df['review'], unique)"
      ],
      "metadata": {
        "colab": {
          "base_uri": "https://localhost:8080/",
          "height": 52
        },
        "id": "92t5xjc3o-Im",
        "outputId": "abef9346-560b-4e9b-e404-133829bce14a"
      },
      "execution_count": null,
      "outputs": [
        {
          "output_type": "display_data",
          "data": {
            "text/html": [
              "<strong>$review</strong> = <style>\n",
              ".list-inline {list-style: none; margin:0; padding: 0}\n",
              ".list-inline>li {display: inline-block}\n",
              ".list-inline>li:not(:last-child)::after {content: \"\\00b7\"; padding: 0 .5ex}\n",
              "</style>\n",
              "<ol class=list-inline><li>'Excellent'</li><li>'Fair'</li><li>'Poor'</li><li>'Great'</li><li>'Good'</li></ol>\n"
            ],
            "text/markdown": "**$review** = 1. 'Excellent'\n2. 'Fair'\n3. 'Poor'\n4. 'Great'\n5. 'Good'\n\n\n",
            "text/latex": "\\textbf{\\$review} = \\begin{enumerate*}\n\\item 'Excellent'\n\\item 'Fair'\n\\item 'Poor'\n\\item 'Great'\n\\item 'Good'\n\\end{enumerate*}\n",
            "text/plain": [
              "$review\n",
              "[1] \"Excellent\" \"Fair\"      \"Poor\"      \"Great\"     \"Good\"     \n"
            ]
          },
          "metadata": {}
        }
      ]
    },
    {
      "cell_type": "markdown",
      "source": [
        "After filter I don't have NA values and I can start my analysis. Now, our data have 1794 rows and still 4 columns. "
      ],
      "metadata": {
        "id": "nDGBhtbwo-g2"
      }
    },
    {
      "cell_type": "markdown",
      "source": [
        "### Dealing With Inconsistent Labels in `state` column\n",
        "\n",
        "In state column we have values with the same mining. For example `CA` and `California`. It means the same thing, but first is postal code, second is full name of state. Below I change all full names to postal code."
      ],
      "metadata": {
        "id": "CKvX1kVbpEgX"
      }
    },
    {
      "cell_type": "code",
      "source": [
        "# Changing state name to postal code\n",
        "df <- df %>%\n",
        "  mutate(state = case_when(state == 'California' ~ 'CA',\n",
        "                           state == 'Texas' ~ 'TX',\n",
        "                           state == 'New York' ~ 'NY',\n",
        "                           state == 'Florida' ~ 'FL',\n",
        "                           TRUE ~ state))\n",
        "\n",
        "head(df)"
      ],
      "metadata": {
        "colab": {
          "base_uri": "https://localhost:8080/",
          "height": 286
        },
        "id": "AxnNMlaYpGCG",
        "outputId": "374040d8-124c-4f31-e967-7e20b3622ea1"
      },
      "execution_count": null,
      "outputs": [
        {
          "output_type": "display_data",
          "data": {
            "text/html": [
              "<table class=\"dataframe\">\n",
              "<caption>A tibble: 6 × 4</caption>\n",
              "<thead>\n",
              "\t<tr><th scope=col>book</th><th scope=col>review</th><th scope=col>state</th><th scope=col>price</th></tr>\n",
              "\t<tr><th scope=col>&lt;chr&gt;</th><th scope=col>&lt;chr&gt;</th><th scope=col>&lt;chr&gt;</th><th scope=col>&lt;dbl&gt;</th></tr>\n",
              "</thead>\n",
              "<tbody>\n",
              "\t<tr><td>R Made Easy                       </td><td>Excellent</td><td>TX</td><td>19.99</td></tr>\n",
              "\t<tr><td>R For Dummies                     </td><td>Fair     </td><td>NY</td><td>15.99</td></tr>\n",
              "\t<tr><td>R Made Easy                       </td><td>Excellent</td><td>NY</td><td>19.99</td></tr>\n",
              "\t<tr><td>R Made Easy                       </td><td>Poor     </td><td>FL</td><td>19.99</td></tr>\n",
              "\t<tr><td>Secrets Of R For Advanced Students</td><td>Great    </td><td>TX</td><td>50.00</td></tr>\n",
              "\t<tr><td>R Made Easy                       </td><td>Great    </td><td>FL</td><td>19.99</td></tr>\n",
              "</tbody>\n",
              "</table>\n"
            ],
            "text/markdown": "\nA tibble: 6 × 4\n\n| book &lt;chr&gt; | review &lt;chr&gt; | state &lt;chr&gt; | price &lt;dbl&gt; |\n|---|---|---|---|\n| R Made Easy                        | Excellent | TX | 19.99 |\n| R For Dummies                      | Fair      | NY | 15.99 |\n| R Made Easy                        | Excellent | NY | 19.99 |\n| R Made Easy                        | Poor      | FL | 19.99 |\n| Secrets Of R For Advanced Students | Great     | TX | 50.00 |\n| R Made Easy                        | Great     | FL | 19.99 |\n\n",
            "text/latex": "A tibble: 6 × 4\n\\begin{tabular}{llll}\n book & review & state & price\\\\\n <chr> & <chr> & <chr> & <dbl>\\\\\n\\hline\n\t R Made Easy                        & Excellent & TX & 19.99\\\\\n\t R For Dummies                      & Fair      & NY & 15.99\\\\\n\t R Made Easy                        & Excellent & NY & 19.99\\\\\n\t R Made Easy                        & Poor      & FL & 19.99\\\\\n\t Secrets Of R For Advanced Students & Great     & TX & 50.00\\\\\n\t R Made Easy                        & Great     & FL & 19.99\\\\\n\\end{tabular}\n",
            "text/plain": [
              "  book                               review    state price\n",
              "1 R Made Easy                        Excellent TX    19.99\n",
              "2 R For Dummies                      Fair      NY    15.99\n",
              "3 R Made Easy                        Excellent NY    19.99\n",
              "4 R Made Easy                        Poor      FL    19.99\n",
              "5 Secrets Of R For Advanced Students Great     TX    50.00\n",
              "6 R Made Easy                        Great     FL    19.99"
            ]
          },
          "metadata": {}
        }
      ]
    },
    {
      "cell_type": "markdown",
      "source": [
        "### Transforming The Review Data\n",
        "\n",
        "In this part I decided to change values in `review` column from character to numeric. I have adopted the following coding:\n",
        "\n",
        "* \"Poor\" has score\" `1`\n",
        "* \"Fair\" has score: `2`\n",
        "* \"Good\" has score: `3`\n",
        "* \"Great\" has score: `4`\n",
        "* \"Excellent\" has score: `5`\n",
        "\n",
        "Then I add new column named `high_review` which will contain `TRUE` value if score is greater or queal to 4 and `FALSE` when score is less than 4.\n"
      ],
      "metadata": {
        "id": "GySUr6RbpIaW"
      }
    },
    {
      "cell_type": "code",
      "source": [
        "# Coding review column and adding new high_review\n",
        "df <- df %>%\n",
        "  mutate(review = case_when(review == 'Poor' ~ 1,\n",
        "                   review == 'Fair' ~ 2,\n",
        "                   review == 'Good' ~ 3,\n",
        "                   review == 'Great' ~ 4,\n",
        "                   review == 'Excellent' ~ 5,),\n",
        "         high_review = ifelse(review >= 4, TRUE, FALSE))\n",
        "\n",
        "head(df)"
      ],
      "metadata": {
        "colab": {
          "base_uri": "https://localhost:8080/",
          "height": 286
        },
        "id": "vjUIlXr8pL3m",
        "outputId": "1a7cb34c-4cea-487f-c5ef-c5082e6252d0"
      },
      "execution_count": null,
      "outputs": [
        {
          "output_type": "display_data",
          "data": {
            "text/html": [
              "<table class=\"dataframe\">\n",
              "<caption>A tibble: 6 × 5</caption>\n",
              "<thead>\n",
              "\t<tr><th scope=col>book</th><th scope=col>review</th><th scope=col>state</th><th scope=col>price</th><th scope=col>high_review</th></tr>\n",
              "\t<tr><th scope=col>&lt;chr&gt;</th><th scope=col>&lt;dbl&gt;</th><th scope=col>&lt;chr&gt;</th><th scope=col>&lt;dbl&gt;</th><th scope=col>&lt;lgl&gt;</th></tr>\n",
              "</thead>\n",
              "<tbody>\n",
              "\t<tr><td>R Made Easy                       </td><td>5</td><td>TX</td><td>19.99</td><td> TRUE</td></tr>\n",
              "\t<tr><td>R For Dummies                     </td><td>2</td><td>NY</td><td>15.99</td><td>FALSE</td></tr>\n",
              "\t<tr><td>R Made Easy                       </td><td>5</td><td>NY</td><td>19.99</td><td> TRUE</td></tr>\n",
              "\t<tr><td>R Made Easy                       </td><td>1</td><td>FL</td><td>19.99</td><td>FALSE</td></tr>\n",
              "\t<tr><td>Secrets Of R For Advanced Students</td><td>4</td><td>TX</td><td>50.00</td><td> TRUE</td></tr>\n",
              "\t<tr><td>R Made Easy                       </td><td>4</td><td>FL</td><td>19.99</td><td> TRUE</td></tr>\n",
              "</tbody>\n",
              "</table>\n"
            ],
            "text/markdown": "\nA tibble: 6 × 5\n\n| book &lt;chr&gt; | review &lt;dbl&gt; | state &lt;chr&gt; | price &lt;dbl&gt; | high_review &lt;lgl&gt; |\n|---|---|---|---|---|\n| R Made Easy                        | 5 | TX | 19.99 |  TRUE |\n| R For Dummies                      | 2 | NY | 15.99 | FALSE |\n| R Made Easy                        | 5 | NY | 19.99 |  TRUE |\n| R Made Easy                        | 1 | FL | 19.99 | FALSE |\n| Secrets Of R For Advanced Students | 4 | TX | 50.00 |  TRUE |\n| R Made Easy                        | 4 | FL | 19.99 |  TRUE |\n\n",
            "text/latex": "A tibble: 6 × 5\n\\begin{tabular}{lllll}\n book & review & state & price & high\\_review\\\\\n <chr> & <dbl> & <chr> & <dbl> & <lgl>\\\\\n\\hline\n\t R Made Easy                        & 5 & TX & 19.99 &  TRUE\\\\\n\t R For Dummies                      & 2 & NY & 15.99 & FALSE\\\\\n\t R Made Easy                        & 5 & NY & 19.99 &  TRUE\\\\\n\t R Made Easy                        & 1 & FL & 19.99 & FALSE\\\\\n\t Secrets Of R For Advanced Students & 4 & TX & 50.00 &  TRUE\\\\\n\t R Made Easy                        & 4 & FL & 19.99 &  TRUE\\\\\n\\end{tabular}\n",
            "text/plain": [
              "  book                               review state price high_review\n",
              "1 R Made Easy                        5      TX    19.99  TRUE      \n",
              "2 R For Dummies                      2      NY    15.99 FALSE      \n",
              "3 R Made Easy                        5      NY    19.99  TRUE      \n",
              "4 R Made Easy                        1      FL    19.99 FALSE      \n",
              "5 Secrets Of R For Advanced Students 4      TX    50.00  TRUE      \n",
              "6 R Made Easy                        4      FL    19.99  TRUE      "
            ]
          },
          "metadata": {}
        }
      ]
    },
    {
      "cell_type": "markdown",
      "source": [
        "## Analyzing The Data\n",
        "\n",
        "After data cleaning, I'm ready to do some analysis of the data. My main goal is to figure out what book is the most profitable. How I will do this? I can calculate which book purchased the most or how much money each book generates for company. I will show some basic statistic which will answer the question and some visualization to show you in more pleasing to the eye."
      ],
      "metadata": {
        "id": "o0HbnE07pPTF"
      }
    },
    {
      "cell_type": "code",
      "source": [
        "# Calculating sum of books sold and sum of money from sale\n",
        "most_profitable <- df %>%\n",
        "  group_by(book) %>%\n",
        "  summarize(books_sold = table(book),\n",
        "            money = sum(price)) %>%\n",
        "  arrange(-money) %>%\n",
        "  mutate(rank = c(1,2,3,4,5))\n",
        "\n",
        "most_profitable"
      ],
      "metadata": {
        "colab": {
          "base_uri": "https://localhost:8080/",
          "height": 255
        },
        "id": "_FgCshzcpUw9",
        "outputId": "9c79b3ce-7443-42e8-a6ea-60d710f051f6"
      },
      "execution_count": null,
      "outputs": [
        {
          "output_type": "display_data",
          "data": {
            "text/html": [
              "<table class=\"dataframe\">\n",
              "<caption>A tibble: 5 × 4</caption>\n",
              "<thead>\n",
              "\t<tr><th scope=col>book</th><th scope=col>books_sold</th><th scope=col>money</th><th scope=col>rank</th></tr>\n",
              "\t<tr><th scope=col>&lt;chr&gt;</th><th scope=col>&lt;table[1d]&gt;</th><th scope=col>&lt;dbl&gt;</th><th scope=col>&lt;dbl&gt;</th></tr>\n",
              "</thead>\n",
              "<tbody>\n",
              "\t<tr><td>Secrets Of R For Advanced Students</td><td>360</td><td>18000.00</td><td>1</td></tr>\n",
              "\t<tr><td>Fundamentals of R For Beginners   </td><td>366</td><td>14636.34</td><td>2</td></tr>\n",
              "\t<tr><td>Top 10 Mistakes R Beginners Make  </td><td>355</td><td>10646.45</td><td>3</td></tr>\n",
              "\t<tr><td>R Made Easy                       </td><td>352</td><td> 7036.48</td><td>4</td></tr>\n",
              "\t<tr><td>R For Dummies                     </td><td>361</td><td> 5772.39</td><td>5</td></tr>\n",
              "</tbody>\n",
              "</table>\n"
            ],
            "text/markdown": "\nA tibble: 5 × 4\n\n| book &lt;chr&gt; | books_sold &lt;table[1d]&gt; | money &lt;dbl&gt; | rank &lt;dbl&gt; |\n|---|---|---|---|\n| Secrets Of R For Advanced Students | 360 | 18000.00 | 1 |\n| Fundamentals of R For Beginners    | 366 | 14636.34 | 2 |\n| Top 10 Mistakes R Beginners Make   | 355 | 10646.45 | 3 |\n| R Made Easy                        | 352 |  7036.48 | 4 |\n| R For Dummies                      | 361 |  5772.39 | 5 |\n\n",
            "text/latex": "A tibble: 5 × 4\n\\begin{tabular}{llll}\n book & books\\_sold & money & rank\\\\\n <chr> & <table{[}1d{]}> & <dbl> & <dbl>\\\\\n\\hline\n\t Secrets Of R For Advanced Students & 360 & 18000.00 & 1\\\\\n\t Fundamentals of R For Beginners    & 366 & 14636.34 & 2\\\\\n\t Top 10 Mistakes R Beginners Make   & 355 & 10646.45 & 3\\\\\n\t R Made Easy                        & 352 &  7036.48 & 4\\\\\n\t R For Dummies                      & 361 &  5772.39 & 5\\\\\n\\end{tabular}\n",
            "text/plain": [
              "  book                               books_sold money    rank\n",
              "1 Secrets Of R For Advanced Students 360        18000.00 1   \n",
              "2 Fundamentals of R For Beginners    366        14636.34 2   \n",
              "3 Top 10 Mistakes R Beginners Make   355        10646.45 3   \n",
              "4 R Made Easy                        352         7036.48 4   \n",
              "5 R For Dummies                      361         5772.39 5   "
            ]
          },
          "metadata": {}
        }
      ]
    },
    {
      "cell_type": "code",
      "source": [
        "# Visualization of received results\n",
        "ggplot(data = most_profitable, aes(x = reorder(rank, -money), y = money, fill = book))+\n",
        "  geom_col() + \n",
        "  geom_text(aes(label = money), vjust = 1.1, size = 3.5)+\n",
        "  ylab('Money [$]')+\n",
        "  xlab('Book name')+\n",
        "  ggtitle('Money recived from books sold')+\n",
        "  labs(fill='Name of a book')"
      ],
      "metadata": {
        "colab": {
          "base_uri": "https://localhost:8080/",
          "height": 437
        },
        "id": "kyjHm7L3pZkl",
        "outputId": "c27b3350-6400-4010-e2bc-b5aca982a4e2"
      },
      "execution_count": null,
      "outputs": [
        {
          "output_type": "display_data",
          "data": {
            "text/plain": [
              "plot without title"
            ],
            "image/png": "[encoded data removed]"
          },
          "metadata": {
            "image/png": {
              "width": 420,
              "height": 420
            }
          }
        }
      ]
    },
    {
      "cell_type": "markdown",
      "source": [
        "Above results shows us that the most profitable book was \"Secrets Of R For Advanced Students\" and ranking is as follows:\n",
        "\n",
        "1. \"Secrets Of R For Advanced Students\"\n",
        "2. \"Fundamentals of R For Beginners\"\n",
        "3. \"Top 10 Mistakes R Beginners Make\"\n",
        "4. \"R Made Easy\"\n",
        "5. \"R For Dummies\"\n"
      ],
      "metadata": {
        "id": "Cmq-De5ipSc1"
      }
    },
    {
      "cell_type": "markdown",
      "source": [
        "### Relationship between State and the Books\n",
        "\n",
        "Now I focus on question: Is there any relationship between state and the books purchased there? Maybe some states have more interest in some books over others. Thanks to this knowledge company will knows, where sholud sell which book."
      ],
      "metadata": {
        "id": "OD0FPPX1pi59"
      }
    },
    {
      "cell_type": "code",
      "source": [
        "table(df$book, df$state)"
      ],
      "metadata": {
        "colab": {
          "base_uri": "https://localhost:8080/",
          "height": 139
        },
        "id": "FdGGYXsapqLl",
        "outputId": "c5de8d10-1c56-442a-874b-933882dd542c"
      },
      "execution_count": null,
      "outputs": [
        {
          "output_type": "display_data",
          "data": {
            "text/plain": [
              "                                    \n",
              "                                      CA  FL  NY  TX\n",
              "  Fundamentals of R For Beginners     99  74  97  96\n",
              "  R For Dummies                      120  77  81  83\n",
              "  R Made Easy                         84  85  96  87\n",
              "  Secrets Of R For Advanced Students  84  86 108  82\n",
              "  Top 10 Mistakes R Beginners Make    77  84 102  92"
            ]
          },
          "metadata": {}
        }
      ]
    },
    {
      "cell_type": "markdown",
      "source": [
        "Table above shows us little ralationship between state and the books. Namely:\n",
        "\n",
        "* In California the most often purchased book was \"R For Dummies\". Up to 120 times.\n",
        "* In Florida all books have a similar number of purchased books but 2 of them were purchesed less than 80 times.\n",
        "* In New York people bought most often \"Secrets of R For Advanced Students\" and \"Top 10 Mistakes R Beginners Make\". Over 100 times.\n",
        "* In Texas we have the same result like in Florida but here the number of books sold is greater.\n",
        "\n",
        "Below we have visualization of results from table."
      ],
      "metadata": {
        "id": "1Xil5EpYpqjF"
      }
    },
    {
      "cell_type": "code",
      "source": [
        "all_states <- ggplot(data = df, aes(x = state, fill = book))+\n",
        "                geom_bar()+\n",
        "                xlab('State')+\n",
        "                ylab('Number of books')+\n",
        "                ggtitle('Relationship between State and the Books Purchased There')+\n",
        "                labs(fill='Name of a book')\n",
        "all_states"
      ],
      "metadata": {
        "colab": {
          "base_uri": "https://localhost:8080/",
          "height": 437
        },
        "id": "cLNH2c2cpsw9",
        "outputId": "3b9a6ad7-5f49-480f-d618-f746ef803481"
      },
      "execution_count": null,
      "outputs": [
        {
          "output_type": "display_data",
          "data": {
            "text/plain": [
              "plot without title"
            ],
            "image/png": "[encoded data removed]"
          },
          "metadata": {
            "image/png": {
              "width": 420,
              "height": 420
            }
          }
        }
      ]
    }
  ]
}