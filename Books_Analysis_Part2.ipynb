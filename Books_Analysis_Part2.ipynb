{
  "nbformat": 4,
  "nbformat_minor": 0,
  "metadata": {
    "colab": {
      "provenance": [],
      "toc_visible": true,
      "authorship_tag": "ABX9TyMgPsb0JzOmKWcjH2nVWWt1",
      "include_colab_link": true
    },
    "kernelspec": {
      "name": "ir",
      "display_name": "R"
    },
    "language_info": {
      "name": "R"
    }
  },
  "cells": [
    {
      "cell_type": "markdown",
      "metadata": {
        "id": "view-in-github",
        "colab_type": "text"
      },
      "source": [
        "<a href=\"https://colab.research.google.com/github/KacperKaszuba0608/Projects-R/blob/main/Creating_An_Efficient_Data_Analysis_Workflow_Part2.ipynb\" target=\"_parent\"><img src=\"https://colab.research.google.com/assets/colab-badge.svg\" alt=\"Open In Colab\"/></a>"
      ]
    },
    {
      "cell_type": "markdown",
      "source": [
        "# Creating An Efficient Data Analysis Workflow - Part2"
      ],
      "metadata": {
        "id": "JS14Yz83sH66"
      }
    },
    {
      "cell_type": "markdown",
      "source": [
        "## Introduction\n",
        "\n",
        "In the project \"Creating An Efficient Data Analysis Workflow\", we are taking on\n",
        "the role of an analyst for a book company. The company has provided us more data \n",
        "on some of its 2019 book sales, and it wants us to extract some usable knowledge \n",
        "from it. It launched a new program encouraging customers to buy more books on \n",
        "July 1st, 2019, and it wants to know if this new program was successful at \n",
        "increasing sales and improving review quality."
      ],
      "metadata": {
        "id": "q6SsPmGTsKgR"
      }
    },
    {
      "cell_type": "markdown",
      "source": [
        "## Loading Libraries and Reading in File\n"
      ],
      "metadata": {
        "id": "LacHqoxOsOGh"
      }
    },
    {
      "cell_type": "code",
      "execution_count": 1,
      "metadata": {
        "colab": {
          "base_uri": "https://localhost:8080/",
          "height": 668
        },
        "id": "mHrp5hkEsC2b",
        "outputId": "2c52a923-17b5-4c88-c871-215fa4712bb5"
      },
      "outputs": [
        {
          "output_type": "stream",
          "name": "stderr",
          "text": [
            "Warning message in system(\"timedatectl\", intern = TRUE):\n",
            "“running command 'timedatectl' had status 1”\n",
            "── \u001b[1mAttaching packages\u001b[22m ─────────────────────────────────────── tidyverse 1.3.1 ──\n",
            "\n",
            "\u001b[32m✔\u001b[39m \u001b[34mggplot2\u001b[39m 3.4.0      \u001b[32m✔\u001b[39m \u001b[34mpurrr  \u001b[39m 1.0.1 \n",
            "\u001b[32m✔\u001b[39m \u001b[34mtibble \u001b[39m 3.1.8      \u001b[32m✔\u001b[39m \u001b[34mdplyr  \u001b[39m 1.0.10\n",
            "\u001b[32m✔\u001b[39m \u001b[34mtidyr  \u001b[39m 1.3.0      \u001b[32m✔\u001b[39m \u001b[34mstringr\u001b[39m 1.4.1 \n",
            "\u001b[32m✔\u001b[39m \u001b[34mreadr  \u001b[39m 2.1.3      \u001b[32m✔\u001b[39m \u001b[34mforcats\u001b[39m 0.5.2 \n",
            "\n",
            "── \u001b[1mConflicts\u001b[22m ────────────────────────────────────────── tidyverse_conflicts() ──\n",
            "\u001b[31m✖\u001b[39m \u001b[34mdplyr\u001b[39m::\u001b[32mfilter()\u001b[39m masks \u001b[34mstats\u001b[39m::filter()\n",
            "\u001b[31m✖\u001b[39m \u001b[34mdplyr\u001b[39m::\u001b[32mlag()\u001b[39m    masks \u001b[34mstats\u001b[39m::lag()\n",
            "\n",
            "\n",
            "Attaching package: ‘lubridate’\n",
            "\n",
            "\n",
            "The following objects are masked from ‘package:base’:\n",
            "\n",
            "    date, intersect, setdiff, union\n",
            "\n",
            "\n"
          ]
        },
        {
          "output_type": "display_data",
          "data": {
            "text/html": [
              "<table class=\"dataframe\">\n",
              "<caption>A data.frame: 6 × 5</caption>\n",
              "<thead>\n",
              "\t<tr><th></th><th scope=col>date</th><th scope=col>user_submitted_review</th><th scope=col>title</th><th scope=col>total_purchased</th><th scope=col>customer_type</th></tr>\n",
              "\t<tr><th></th><th scope=col>&lt;chr&gt;</th><th scope=col>&lt;chr&gt;</th><th scope=col>&lt;chr&gt;</th><th scope=col>&lt;int&gt;</th><th scope=col>&lt;chr&gt;</th></tr>\n",
              "</thead>\n",
              "<tbody>\n",
              "\t<tr><th scope=row>1</th><td>5/22/19 </td><td>it was okay             </td><td>Secrets Of R For Advanced Students</td><td> 7</td><td>Business  </td></tr>\n",
              "\t<tr><th scope=row>2</th><td>11/16/19</td><td>Awesome!                </td><td>R For Dummies                     </td><td> 3</td><td>Business  </td></tr>\n",
              "\t<tr><th scope=row>3</th><td>6/27/19 </td><td>Awesome!                </td><td>R For Dummies                     </td><td> 1</td><td>Individual</td></tr>\n",
              "\t<tr><th scope=row>4</th><td>11/6/19 </td><td>Awesome!                </td><td>Fundamentals of R For Beginners   </td><td> 3</td><td>Individual</td></tr>\n",
              "\t<tr><th scope=row>5</th><td>7/18/19 </td><td>Hated it                </td><td>Fundamentals of R For Beginners   </td><td>NA</td><td>Business  </td></tr>\n",
              "\t<tr><th scope=row>6</th><td>1/28/19 </td><td>Never read a better book</td><td>Secrets Of R For Advanced Students</td><td> 1</td><td>Business  </td></tr>\n",
              "</tbody>\n",
              "</table>\n"
            ],
            "text/markdown": "\nA data.frame: 6 × 5\n\n| <!--/--> | date &lt;chr&gt; | user_submitted_review &lt;chr&gt; | title &lt;chr&gt; | total_purchased &lt;int&gt; | customer_type &lt;chr&gt; |\n|---|---|---|---|---|---|\n| 1 | 5/22/19  | it was okay              | Secrets Of R For Advanced Students |  7 | Business   |\n| 2 | 11/16/19 | Awesome!                 | R For Dummies                      |  3 | Business   |\n| 3 | 6/27/19  | Awesome!                 | R For Dummies                      |  1 | Individual |\n| 4 | 11/6/19  | Awesome!                 | Fundamentals of R For Beginners    |  3 | Individual |\n| 5 | 7/18/19  | Hated it                 | Fundamentals of R For Beginners    | NA | Business   |\n| 6 | 1/28/19  | Never read a better book | Secrets Of R For Advanced Students |  1 | Business   |\n\n",
            "text/latex": "A data.frame: 6 × 5\n\\begin{tabular}{r|lllll}\n  & date & user\\_submitted\\_review & title & total\\_purchased & customer\\_type\\\\\n  & <chr> & <chr> & <chr> & <int> & <chr>\\\\\n\\hline\n\t1 & 5/22/19  & it was okay              & Secrets Of R For Advanced Students &  7 & Business  \\\\\n\t2 & 11/16/19 & Awesome!                 & R For Dummies                      &  3 & Business  \\\\\n\t3 & 6/27/19  & Awesome!                 & R For Dummies                      &  1 & Individual\\\\\n\t4 & 11/6/19  & Awesome!                 & Fundamentals of R For Beginners    &  3 & Individual\\\\\n\t5 & 7/18/19  & Hated it                 & Fundamentals of R For Beginners    & NA & Business  \\\\\n\t6 & 1/28/19  & Never read a better book & Secrets Of R For Advanced Students &  1 & Business  \\\\\n\\end{tabular}\n",
            "text/plain": [
              "  date     user_submitted_review    title                             \n",
              "1 5/22/19  it was okay              Secrets Of R For Advanced Students\n",
              "2 11/16/19 Awesome!                 R For Dummies                     \n",
              "3 6/27/19  Awesome!                 R For Dummies                     \n",
              "4 11/6/19  Awesome!                 Fundamentals of R For Beginners   \n",
              "5 7/18/19  Hated it                 Fundamentals of R For Beginners   \n",
              "6 1/28/19  Never read a better book Secrets Of R For Advanced Students\n",
              "  total_purchased customer_type\n",
              "1  7              Business     \n",
              "2  3              Business     \n",
              "3  1              Individual   \n",
              "4  3              Individual   \n",
              "5 NA              Business     \n",
              "6  1              Business     "
            ]
          },
          "metadata": {}
        }
      ],
      "source": [
        "library(tidyverse)\n",
        "library(lubridate)\n",
        "\n",
        "df <- read.csv(\"https://github.com/KacperKaszuba0608/Datasets/raw/main/sales2019.csv\")\n",
        "head(df)"
      ]
    },
    {
      "cell_type": "markdown",
      "source": [
        "## Extracting informations\n"
      ],
      "metadata": {
        "id": "j5KDb9ggsWnZ"
      }
    },
    {
      "cell_type": "code",
      "source": [
        "# Number of rows and columns\n",
        "dim(df)"
      ],
      "metadata": {
        "colab": {
          "base_uri": "https://localhost:8080/",
          "height": 34
        },
        "id": "N6YlAoqksUbI",
        "outputId": "2b5f448b-0d59-4858-aeae-9c9f803e09de"
      },
      "execution_count": 2,
      "outputs": [
        {
          "output_type": "display_data",
          "data": {
            "text/html": [
              "<style>\n",
              ".list-inline {list-style: none; margin:0; padding: 0}\n",
              ".list-inline>li {display: inline-block}\n",
              ".list-inline>li:not(:last-child)::after {content: \"\\00b7\"; padding: 0 .5ex}\n",
              "</style>\n",
              "<ol class=list-inline><li>5000</li><li>5</li></ol>\n"
            ],
            "text/markdown": "1. 5000\n2. 5\n\n\n",
            "text/latex": "\\begin{enumerate*}\n\\item 5000\n\\item 5\n\\end{enumerate*}\n",
            "text/plain": [
              "[1] 5000    5"
            ]
          },
          "metadata": {}
        }
      ]
    },
    {
      "cell_type": "code",
      "source": [
        "# Checking type of columns\n",
        "glimpse(df)"
      ],
      "metadata": {
        "colab": {
          "base_uri": "https://localhost:8080/"
        },
        "id": "JzRMQGKNsa26",
        "outputId": "562fdff1-a870-4bff-a857-54f7b2cc00d2"
      },
      "execution_count": 3,
      "outputs": [
        {
          "output_type": "stream",
          "name": "stdout",
          "text": [
            "Rows: 5,000\n",
            "Columns: 5\n",
            "$ date                  \u001b[3m\u001b[90m<chr>\u001b[39m\u001b[23m \"5/22/19\", \"11/16/19\", \"6/27/19\", \"11/6/19\", \"7/…\n",
            "$ user_submitted_review \u001b[3m\u001b[90m<chr>\u001b[39m\u001b[23m \"it was okay\", \"Awesome!\", \"Awesome!\", \"Awesome!…\n",
            "$ title                 \u001b[3m\u001b[90m<chr>\u001b[39m\u001b[23m \"Secrets Of R For Advanced Students\", \"R For Dum…\n",
            "$ total_purchased       \u001b[3m\u001b[90m<int>\u001b[39m\u001b[23m 7, 3, 1, 3, NA, 1, 5, NA, 7, 1, 7, NA, 3, 2, 0, …\n",
            "$ customer_type         \u001b[3m\u001b[90m<chr>\u001b[39m\u001b[23m \"Business\", \"Business\", \"Individual\", \"Individua…\n"
          ]
        }
      ]
    },
    {
      "cell_type": "code",
      "source": [
        "# Checking missing values in each column\n",
        "length(which(is.na(df$user_submitted_review)))\n",
        "length(which(is.na(df$date)))\n",
        "length(which(is.na(df$title)))\n",
        "length(which(is.na(df$total_purchased)))\n",
        "length(which(is.na(df$customer_type)))"
      ],
      "metadata": {
        "colab": {
          "base_uri": "https://localhost:8080/",
          "height": 104
        },
        "id": "wDRtR8e_sfS5",
        "outputId": "87802475-fd30-43d1-cb52-8dd66b45ba2e"
      },
      "execution_count": 4,
      "outputs": [
        {
          "output_type": "display_data",
          "data": {
            "text/html": [
              "456"
            ],
            "text/markdown": "456",
            "text/latex": "456",
            "text/plain": [
              "[1] 456"
            ]
          },
          "metadata": {}
        },
        {
          "output_type": "display_data",
          "data": {
            "text/html": [
              "0"
            ],
            "text/markdown": "0",
            "text/latex": "0",
            "text/plain": [
              "[1] 0"
            ]
          },
          "metadata": {}
        },
        {
          "output_type": "display_data",
          "data": {
            "text/html": [
              "0"
            ],
            "text/markdown": "0",
            "text/latex": "0",
            "text/plain": [
              "[1] 0"
            ]
          },
          "metadata": {}
        },
        {
          "output_type": "display_data",
          "data": {
            "text/html": [
              "718"
            ],
            "text/markdown": "718",
            "text/latex": "718",
            "text/plain": [
              "[1] 718"
            ]
          },
          "metadata": {}
        },
        {
          "output_type": "display_data",
          "data": {
            "text/html": [
              "0"
            ],
            "text/markdown": "0",
            "text/latex": "0",
            "text/plain": [
              "[1] 0"
            ]
          },
          "metadata": {}
        }
      ]
    },
    {
      "cell_type": "markdown",
      "source": [
        "Dataset consists of the 5 column and 5000 rows. Data has missing value in \n",
        "`total_purchased` column and `user_submitted_review`. Types of column is as follows:\n",
        "\n",
        "* `date` - contain information about date in character type\n",
        "* `user_submitted_review` - contains review from reader in character type\n",
        "* `title` - title of a book in character type\n",
        "* `total_purchased` - number of purchased books in range 0:12, integer type\n",
        "* `customer_type` - type of customer in character type, with 2 level 'Business' and 'Individual'"
      ],
      "metadata": {
        "id": "BdANApYnsYwC"
      }
    },
    {
      "cell_type": "markdown",
      "source": [
        "## Data Cleaning\n"
      ],
      "metadata": {
        "id": "PQfWwJpesuDo"
      }
    },
    {
      "cell_type": "markdown",
      "source": [
        "### Handling Missing Values\n",
        "\n",
        "For total_purchased, we're going to replace all of the NA values with an\n",
        "average value that we calculate from the complete dataset."
      ],
      "metadata": {
        "id": "sP1bPTEAswsY"
      }
    },
    {
      "cell_type": "code",
      "source": [
        "# Removing NA values from second column\n",
        "df <- df %>%\n",
        "  filter(!(is.na(user_submitted_review))) %>%\n",
        "  mutate(total_purchased = ifelse(is.na(total_purchased),\n",
        "                                  round(mean(!is.na(total_purchased)),3),\n",
        "                                  total_purchased))"
      ],
      "metadata": {
        "id": "nr4thx2QszU3"
      },
      "execution_count": 5,
      "outputs": []
    },
    {
      "cell_type": "markdown",
      "source": [
        "### Processing Review Data\n",
        "\n",
        "At first I extract unique values from `user_submitted_review`. \n",
        "Then I choose some words which will be information about is a review \n",
        "positive or negative."
      ],
      "metadata": {
        "id": "ys0A6D-us5y4"
      }
    },
    {
      "cell_type": "code",
      "source": [
        "unique(df$user_submitted_review)"
      ],
      "metadata": {
        "colab": {
          "base_uri": "https://localhost:8080/",
          "height": 34
        },
        "id": "esqAQrons7p5",
        "outputId": "48ab1822-347f-480f-86a2-f1b23ae0ad37"
      },
      "execution_count": 6,
      "outputs": [
        {
          "output_type": "display_data",
          "data": {
            "text/html": [
              "<style>\n",
              ".list-inline {list-style: none; margin:0; padding: 0}\n",
              ".list-inline>li {display: inline-block}\n",
              ".list-inline>li:not(:last-child)::after {content: \"\\00b7\"; padding: 0 .5ex}\n",
              "</style>\n",
              "<ol class=list-inline><li>'it was okay'</li><li>'Awesome!'</li><li>'Hated it'</li><li>'Never read a better book'</li><li>'OK'</li><li>'The author\\'s other books were better'</li><li>'A lot of material was not needed'</li><li>''</li><li>'Would not recommend'</li><li>'I learned a lot'</li></ol>\n"
            ],
            "text/markdown": "1. 'it was okay'\n2. 'Awesome!'\n3. 'Hated it'\n4. 'Never read a better book'\n5. 'OK'\n6. 'The author\\'s other books were better'\n7. 'A lot of material was not needed'\n8. ''\n9. 'Would not recommend'\n10. 'I learned a lot'\n\n\n",
            "text/latex": "\\begin{enumerate*}\n\\item 'it was okay'\n\\item 'Awesome!'\n\\item 'Hated it'\n\\item 'Never read a better book'\n\\item 'OK'\n\\item 'The author\\textbackslash{}'s other books were better'\n\\item 'A lot of material was not needed'\n\\item ''\n\\item 'Would not recommend'\n\\item 'I learned a lot'\n\\end{enumerate*}\n",
            "text/plain": [
              " [1] \"it was okay\"                         \n",
              " [2] \"Awesome!\"                            \n",
              " [3] \"Hated it\"                            \n",
              " [4] \"Never read a better book\"            \n",
              " [5] \"OK\"                                  \n",
              " [6] \"The author's other books were better\"\n",
              " [7] \"A lot of material was not needed\"    \n",
              " [8] \"\"                                    \n",
              " [9] \"Would not recommend\"                 \n",
              "[10] \"I learned a lot\"                     "
            ]
          },
          "metadata": {}
        }
      ]
    },
    {
      "cell_type": "markdown",
      "source": [
        "Above we have few sentence and I think postivie word/phrase can be: 'Awesome', 'okay', \n",
        "'learned a lot', 'Never read a better book' and 'OK'. The negative word/phrase can be:\n",
        "'Hated', 'not needed', 'not recommend' and 'other books were better'. \n",
        "\n",
        "If I have this words, now I can create a function which will returns a value \n",
        "indicating if the review is positive or not."
      ],
      "metadata": {
        "id": "ypP9ZuK1s9kx"
      }
    },
    {
      "cell_type": "code",
      "source": [
        "p_or_n <- function(review){\n",
        "  result <- case_when(str_detect(review, 'Awesome')~TRUE,\n",
        "                      str_detect(review, 'okay')~TRUE,\n",
        "                      str_detect(review, 'learned a lot')~TRUE,\n",
        "                      str_detect(review, 'Never read a better book')~TRUE,\n",
        "                      str_detect(review, 'OK')~TRUE,\n",
        "                      TRUE~FALSE)\n",
        "}\n",
        "\n",
        "df <- df %>%\n",
        "  mutate(positive_or_not = unlist(map(user_submitted_review, p_or_n)))"
      ],
      "metadata": {
        "id": "GTEjTJzVs_IR"
      },
      "execution_count": 7,
      "outputs": []
    },
    {
      "cell_type": "markdown",
      "source": [
        "## Comparing Book Sales Between Pre- and Post-Program Sales\n",
        "\n",
        "I can finally make a move towards answering the main question of the analysis, \n",
        "Was the new book program effective in increasing book sales? The program started \n",
        "on July 1, 2019 and the data we have contains all of the sales for 2019. But at \n",
        "first I have to change type od column to date type and check how many books was \n",
        "before and after July 1, 2019."
      ],
      "metadata": {
        "id": "z5BJYlAUtE3R"
      }
    },
    {
      "cell_type": "code",
      "source": [
        "# Changing types of date column\n",
        "df <- df %>%\n",
        "  mutate(date = mdy(date),\n",
        "         when_date = ifelse(date < '2019-07-01', 'Pre-', 'Post-'))\n",
        "\n",
        "book_program_status <- df %>%\n",
        "  group_by(when_date) %>%\n",
        "  summarize(books_purchased = sum(total_purchased))\n",
        "\n",
        "book_program_status"
      ],
      "metadata": {
        "colab": {
          "base_uri": "https://localhost:8080/",
          "height": 161
        },
        "id": "zZfHic8vtHIh",
        "outputId": "1401c62f-114b-4746-9e80-e022f4678f95"
      },
      "execution_count": 8,
      "outputs": [
        {
          "output_type": "display_data",
          "data": {
            "text/html": [
              "<table class=\"dataframe\">\n",
              "<caption>A tibble: 2 × 2</caption>\n",
              "<thead>\n",
              "\t<tr><th scope=col>when_date</th><th scope=col>books_purchased</th></tr>\n",
              "\t<tr><th scope=col>&lt;chr&gt;</th><th scope=col>&lt;dbl&gt;</th></tr>\n",
              "</thead>\n",
              "<tbody>\n",
              "\t<tr><td>Post-</td><td>7990.808</td></tr>\n",
              "\t<tr><td>Pre- </td><td>8145.956</td></tr>\n",
              "</tbody>\n",
              "</table>\n"
            ],
            "text/markdown": "\nA tibble: 2 × 2\n\n| when_date &lt;chr&gt; | books_purchased &lt;dbl&gt; |\n|---|---|\n| Post- | 7990.808 |\n| Pre-  | 8145.956 |\n\n",
            "text/latex": "A tibble: 2 × 2\n\\begin{tabular}{ll}\n when\\_date & books\\_purchased\\\\\n <chr> & <dbl>\\\\\n\\hline\n\t Post- & 7990.808\\\\\n\t Pre-  & 8145.956\\\\\n\\end{tabular}\n",
            "text/plain": [
              "  when_date books_purchased\n",
              "1 Post-     7990.808       \n",
              "2 Pre-      8145.956       "
            ]
          },
          "metadata": {}
        }
      ]
    },
    {
      "cell_type": "markdown",
      "source": [
        "As we see the result of purchased book after the new book program on July 1, 2019\n",
        "wasn't effective. We can see a decrease of number of books sold from approximately \n",
        "8167 to 7970 books. Coclusion of this program is that the new book program wasn't\n",
        "effective for company."
      ],
      "metadata": {
        "id": "J1SJ9A_itJJJ"
      }
    },
    {
      "cell_type": "markdown",
      "source": [
        "## Comparing Book Sales Within Customer Type\n",
        "\n",
        "In previous step of analysis we claim that the new book program hadn't been effective.\n",
        "That's why I make a step further and check if it's possible that individual customers\n",
        "responded better to the program and bought more books in response to the program.\n",
        "Or, it could have been businesses that bought more books."
      ],
      "metadata": {
        "id": "trFExMHVtOZx"
      }
    },
    {
      "cell_type": "code",
      "source": [
        "customers <- df %>%\n",
        "  group_by(when_date, customer_type) %>%\n",
        "  summarize(books_purchased = sum(total_purchased)) %>%\n",
        "  arrange(customer_type, when_date)\n",
        "\n",
        "customers"
      ],
      "metadata": {
        "colab": {
          "base_uri": "https://localhost:8080/",
          "height": 258
        },
        "id": "SQZI1EPwtKxh",
        "outputId": "dfac3f35-f160-4c28-db25-ed62374a73f4"
      },
      "execution_count": 9,
      "outputs": [
        {
          "output_type": "stream",
          "name": "stderr",
          "text": [
            "\u001b[1m\u001b[22m`summarise()` has grouped output by 'when_date'. You can override using the\n",
            "`.groups` argument.\n"
          ]
        },
        {
          "output_type": "display_data",
          "data": {
            "text/html": [
              "<table class=\"dataframe\">\n",
              "<caption>A grouped_df: 4 × 3</caption>\n",
              "<thead>\n",
              "\t<tr><th scope=col>when_date</th><th scope=col>customer_type</th><th scope=col>books_purchased</th></tr>\n",
              "\t<tr><th scope=col>&lt;chr&gt;</th><th scope=col>&lt;chr&gt;</th><th scope=col>&lt;dbl&gt;</th></tr>\n",
              "</thead>\n",
              "<tbody>\n",
              "\t<tr><td>Post-</td><td>Business  </td><td>5535.822</td></tr>\n",
              "\t<tr><td>Pre- </td><td>Business  </td><td>5546.255</td></tr>\n",
              "\t<tr><td>Post-</td><td>Individual</td><td>2454.986</td></tr>\n",
              "\t<tr><td>Pre- </td><td>Individual</td><td>2599.701</td></tr>\n",
              "</tbody>\n",
              "</table>\n"
            ],
            "text/markdown": "\nA grouped_df: 4 × 3\n\n| when_date &lt;chr&gt; | customer_type &lt;chr&gt; | books_purchased &lt;dbl&gt; |\n|---|---|---|\n| Post- | Business   | 5535.822 |\n| Pre-  | Business   | 5546.255 |\n| Post- | Individual | 2454.986 |\n| Pre-  | Individual | 2599.701 |\n\n",
            "text/latex": "A grouped\\_df: 4 × 3\n\\begin{tabular}{lll}\n when\\_date & customer\\_type & books\\_purchased\\\\\n <chr> & <chr> & <dbl>\\\\\n\\hline\n\t Post- & Business   & 5535.822\\\\\n\t Pre-  & Business   & 5546.255\\\\\n\t Post- & Individual & 2454.986\\\\\n\t Pre-  & Individual & 2599.701\\\\\n\\end{tabular}\n",
            "text/plain": [
              "  when_date customer_type books_purchased\n",
              "1 Post-     Business      5535.822       \n",
              "2 Pre-      Business      5546.255       \n",
              "3 Post-     Individual    2454.986       \n",
              "4 Pre-      Individual    2599.701       "
            ]
          },
          "metadata": {}
        }
      ]
    },
    {
      "cell_type": "markdown",
      "source": [
        "Comparing Book Sales Within Customer Type doesn't give us me satisfied answer, because\n",
        "still the new program doesn't bring benefits to the company."
      ],
      "metadata": {
        "id": "y0g1DjWmtTdY"
      }
    },
    {
      "cell_type": "markdown",
      "source": [
        "## Comparing Review Sentiment Between Pre- and Post-Program Sales\n",
        "\n",
        "The last question that I need to answer with the data is, **did review scores improve\n",
        "as a result of the program?** The answer is below."
      ],
      "metadata": {
        "id": "vwOptMOctWsZ"
      }
    },
    {
      "cell_type": "code",
      "source": [
        "better_reviews <- df %>%\n",
        "  group_by(when_date) %>%\n",
        "  summarize(positive_or_not = sum(positive_or_not)) %>%\n",
        "  arrange(-positive_or_not)\n",
        "\n",
        "better_reviews"
      ],
      "metadata": {
        "colab": {
          "base_uri": "https://localhost:8080/",
          "height": 161
        },
        "id": "kVFFRy6JtZCY",
        "outputId": "b5ec924b-424b-463e-a515-264deb65f1cc"
      },
      "execution_count": 10,
      "outputs": [
        {
          "output_type": "display_data",
          "data": {
            "text/html": [
              "<table class=\"dataframe\">\n",
              "<caption>A tibble: 2 × 2</caption>\n",
              "<thead>\n",
              "\t<tr><th scope=col>when_date</th><th scope=col>positive_or_not</th></tr>\n",
              "\t<tr><th scope=col>&lt;chr&gt;</th><th scope=col>&lt;int&gt;</th></tr>\n",
              "</thead>\n",
              "<tbody>\n",
              "\t<tr><td>Pre- </td><td>1134</td></tr>\n",
              "\t<tr><td>Post-</td><td>1128</td></tr>\n",
              "</tbody>\n",
              "</table>\n"
            ],
            "text/markdown": "\nA tibble: 2 × 2\n\n| when_date &lt;chr&gt; | positive_or_not &lt;int&gt; |\n|---|---|\n| Pre-  | 1134 |\n| Post- | 1128 |\n\n",
            "text/latex": "A tibble: 2 × 2\n\\begin{tabular}{ll}\n when\\_date & positive\\_or\\_not\\\\\n <chr> & <int>\\\\\n\\hline\n\t Pre-  & 1134\\\\\n\t Post- & 1128\\\\\n\\end{tabular}\n",
            "text/plain": [
              "  when_date positive_or_not\n",
              "1 Pre-      1134           \n",
              "2 Post-     1128           "
            ]
          },
          "metadata": {}
        }
      ]
    },
    {
      "cell_type": "markdown",
      "source": [
        "\n",
        "The reviews seems to be better before the new book program, but this difference is \n",
        "very small."
      ],
      "metadata": {
        "id": "D2387qTdtadw"
      }
    }
  ]
}
